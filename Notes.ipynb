{
 "cells": [
  {
   "cell_type": "markdown",
   "id": "98a00ca8-8a79-406b-9b20-a164dcc24a80",
   "metadata": {},
   "source": [
    "---\n",
    "## Vocabulary & Feature Extraction"
   ]
  },
  {
   "cell_type": "markdown",
   "id": "5e5c92cb-c739-46da-b253-d3dad1d5e3e3",
   "metadata": {},
   "source": [
    "Given a text you can represent it as a vector of dimension V\n",
    "\n",
    "$V:$ Vocabulary size\n",
    "\n",
    "text as a vector: encoding it as a vector of numbers\n",
    "\n",
    "Sparse representation"
   ]
  },
  {
   "cell_type": "code",
   "execution_count": null,
   "id": "488e7925-ebb2-413d-a788-a7035243ab64",
   "metadata": {},
   "outputs": [],
   "source": []
  }
 ],
 "metadata": {
  "kernelspec": {
   "display_name": "Python 3 (ipykernel)",
   "language": "python",
   "name": "python3"
  },
  "language_info": {
   "codemirror_mode": {
    "name": "ipython",
    "version": 3
   },
   "file_extension": ".py",
   "mimetype": "text/x-python",
   "name": "python",
   "nbconvert_exporter": "python",
   "pygments_lexer": "ipython3",
   "version": "3.10.9"
  }
 },
 "nbformat": 4,
 "nbformat_minor": 5
}
