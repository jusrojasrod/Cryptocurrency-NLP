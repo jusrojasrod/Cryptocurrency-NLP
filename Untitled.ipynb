{
 "cells": [
  {
   "cell_type": "markdown",
   "id": "5cfb97e9-aef4-4f92-82fb-e7dbc9aac6db",
   "metadata": {},
   "source": [
    "# Natural Language Processing With spaCy in Python\n",
    "\n",
    "Notebook for Introduction to NLP and spaCy.\n",
    "\n",
    "Source [Real Python](https://realpython.com/natural-language-processing-spacy-python/#conclusion)\n",
    "\n",
    "---"
   ]
  },
  {
   "cell_type": "markdown",
   "id": "e08eb0f1-bcf5-4dbd-b8df-f84257f013b7",
   "metadata": {},
   "source": [
    "In this tutorial, you’ll learn how to:\n",
    "\n",
    "- Implement NLP in spaCy.\n",
    "- Customize and extend built-in functionalities in spaCy.\n",
    "- Perform basic statistical analysis on a text.\n",
    "- Create a pipeline to process unstructured text.\n",
    "- Parse a sentence and extract meaningful insights from it."
   ]
  },
  {
   "cell_type": "code",
   "execution_count": 1,
   "id": "1357b789-4df6-46fd-bc38-3f9b7a8cf517",
   "metadata": {},
   "outputs": [],
   "source": [
    "import pathlib\n",
    "\n",
    "import spacy\n",
    "from collections import Counter\n",
    "from spacy import displacy\n"
   ]
  },
  {
   "cell_type": "code",
   "execution_count": 2,
   "id": "cdb437b6-f2f4-470a-85a5-4ef12d011454",
   "metadata": {},
   "outputs": [
    {
     "data": {
      "text/plain": [
       "<spacy.lang.en.English at 0x1f088afd360>"
      ]
     },
     "execution_count": 2,
     "metadata": {},
     "output_type": "execute_result"
    }
   ],
   "source": [
    "nlp = spacy.load(\"en_core_web_sm\")      # model for English language\n",
    "nlp"
   ]
  },
  {
   "cell_type": "code",
   "execution_count": 3,
   "id": "1226c2ff-6f64-4776-b1b3-9b76dbe80a37",
   "metadata": {},
   "outputs": [
    {
     "data": {
      "text/plain": [
       "spacy.tokens.doc.Doc"
      ]
     },
     "execution_count": 3,
     "metadata": {},
     "output_type": "execute_result"
    }
   ],
   "source": [
    "introduction_doc = nlp(\n",
    "    \"\"\"spaCy is an open-source library for NLP, mostly used in Python and Cython\n",
    "    which provides pre-trained Neural Networks, specifically, Convolutional Neural\n",
    "    Networks (CNNs) to perform NLP related taks in several languages (will\n",
    "    provide images with examples).\"\"\"\n",
    ")\n",
    "type(introduction_doc)"
   ]
  },
  {
   "cell_type": "code",
   "execution_count": 4,
   "id": "38352fc9-cbb5-4c93-b11e-3308a4c9303d",
   "metadata": {},
   "outputs": [
    {
     "name": "stdout",
     "output_type": "stream",
     "text": [
      "['spaCy', 'is', 'an', 'open', '-', 'source', 'library', 'for', 'NLP', ',', 'mostly', 'used', 'in', 'Python', 'and', 'Cython', '\\n    ', 'which', 'provides', 'pre', '-', 'trained', 'Neural', 'Networks', ',', 'specifically', ',', 'Convolutional', 'Neural', '\\n    ', 'Networks', '(', 'CNNs', ')', 'to', 'perform', 'NLP', 'related', 'taks', 'in', 'several', 'languages', '(', 'will', '\\n    ', 'provide', 'images', 'with', 'examples', ')', '.']\n"
     ]
    }
   ],
   "source": [
    "print([token.text for token in introduction_doc])"
   ]
  },
  {
   "cell_type": "code",
   "execution_count": 5,
   "id": "00ad8de5-09e2-49a8-9cc7-291cf610f228",
   "metadata": {},
   "outputs": [
    {
     "name": "stdout",
     "output_type": "stream",
     "text": [
      "['\"', '\"', '\"', 'spaCy', 'is', 'an', 'open', '-', 'source', 'library', 'for', 'NLP', ',', 'mostly', 'used', 'in', 'Python', 'and', 'Cython', '\\n    ', 'which', 'provides', 'pre', '-', 'trained', 'Neural', 'Networks', ',', 'specifically', ',', 'Convolutional', 'Neural', '\\n    ', 'Networks', '(', 'CNNs', ')', 'to', 'perform', 'NLP', 'related', 'taks', 'in', 'several', 'languages', '(', 'will', '\\n    ', 'provide', 'images', 'with', 'examples', ')', '.', '\"', '\"', '\"']\n"
     ]
    }
   ],
   "source": [
    "# file_name = \"C:\\\\Users\\\\Usuario\\\\Documents\\\\Cryptocurrency-NLP-main\\\\introduction.txt\"\n",
    "file_name = \"introduction.txt\"\n",
    "introduction_doc = nlp(pathlib.Path(file_name).read_text(encoding=\"utf-8\"))\n",
    "print ([token.text for token in introduction_doc])"
   ]
  },
  {
   "cell_type": "markdown",
   "id": "37a16be1-2618-461c-9aa5-3e94fddfcdff",
   "metadata": {},
   "source": [
    "## Sentence Detection"
   ]
  },
  {
   "cell_type": "code",
   "execution_count": 6,
   "id": "c47fd196-1987-4bd2-8eb4-ccdde30c7998",
   "metadata": {},
   "outputs": [
    {
     "data": {
      "text/plain": [
       "2"
      ]
     },
     "execution_count": 6,
     "metadata": {},
     "output_type": "execute_result"
    }
   ],
   "source": [
    "about_text = (\n",
    "    \"Gus Proto is a Python developer currently\"\n",
    "    \" working for a London-based Fintech\"\n",
    "    \" company. He is interested in learning\"\n",
    "    \" Natural Language Processing.\"\n",
    ")\n",
    "about_doc = nlp(about_text)\n",
    "sentences = list(about_doc.sents)\n",
    "len(sentences)"
   ]
  },
  {
   "cell_type": "code",
   "execution_count": 7,
   "id": "525fc468-6d3d-4500-ab7f-ca778b9480fa",
   "metadata": {},
   "outputs": [
    {
     "data": {
      "text/plain": [
       "Gus Proto is a Python developer currently working for a London-based Fintech company."
      ]
     },
     "execution_count": 7,
     "metadata": {},
     "output_type": "execute_result"
    }
   ],
   "source": [
    "sentences[0]"
   ]
  },
  {
   "cell_type": "code",
   "execution_count": 8,
   "id": "b3a095a8-d010-4c97-b587-727a492b814a",
   "metadata": {},
   "outputs": [
    {
     "name": "stdout",
     "output_type": "stream",
     "text": [
      "Gus Proto is a Python developer currently working for a London-based Fintech company.\n",
      "He is interested in learning Natural Language Processing.\n"
     ]
    }
   ],
   "source": [
    "for sentence in sentences:\n",
    "    print(sentence)"
   ]
  },
  {
   "cell_type": "markdown",
   "id": "254c1c3f-8261-499a-92bd-97c82eec404e",
   "metadata": {},
   "source": [
    "## Tokens in spaCy"
   ]
  },
  {
   "cell_type": "code",
   "execution_count": 9,
   "id": "d14b4089-338e-4a92-816f-2f6daab4b80d",
   "metadata": {},
   "outputs": [],
   "source": [
    "nlp = spacy.load(\"en_core_web_sm\")\n",
    "about_text = (\n",
    "    \"\"\"spaCy is an open-source library for NLP, mostly used in Python and Cython\n",
    "    which provides pre-trained Neural Networks, specifically, Convolutional Neural\n",
    "    Networks (CNNs) to perform NLP related taks in several languages (will\n",
    "    provide images with examples).\"\"\"\n",
    ")\n",
    "about_doc = nlp(about_text)"
   ]
  },
  {
   "cell_type": "code",
   "execution_count": 10,
   "id": "c51e4ced-8dad-41ed-817a-43c5820941bb",
   "metadata": {},
   "outputs": [
    {
     "name": "stdout",
     "output_type": "stream",
     "text": [
      "spaCy 0\n",
      "is 6\n",
      "an 9\n",
      "open 12\n",
      "- 16\n",
      "source 17\n",
      "library 24\n",
      "for 32\n",
      "NLP 36\n",
      ", 39\n",
      "mostly 41\n",
      "used 48\n",
      "in 53\n",
      "Python 56\n",
      "and 63\n",
      "Cython 67\n",
      "\n",
      "     73\n",
      "which 78\n",
      "provides 84\n",
      "pre 93\n",
      "- 96\n",
      "trained 97\n",
      "Neural 105\n",
      "Networks 112\n",
      ", 120\n",
      "specifically 122\n",
      ", 134\n",
      "Convolutional 136\n",
      "Neural 150\n",
      "\n",
      "     156\n",
      "Networks 161\n",
      "( 170\n",
      "CNNs 171\n",
      ") 175\n",
      "to 177\n",
      "perform 180\n",
      "NLP 188\n",
      "related 192\n",
      "taks 200\n",
      "in 205\n",
      "several 208\n",
      "languages 216\n",
      "( 226\n",
      "will 227\n",
      "\n",
      "     231\n",
      "provide 236\n",
      "images 244\n",
      "with 251\n",
      "examples 256\n",
      ") 264\n",
      ". 265\n"
     ]
    }
   ],
   "source": [
    "for token in about_doc:\n",
    "    print(token, token.idx)"
   ]
  },
  {
   "cell_type": "code",
   "execution_count": 11,
   "id": "03f44c03-e6ef-4724-bbab-c90f15e86276",
   "metadata": {},
   "outputs": [
    {
     "name": "stdout",
     "output_type": "stream",
     "text": [
      "Text with whitespace  Is Alphanumeric?  Is Punctuation?   Is Stop Word?\n",
      "spaCy                 True              False             False\n",
      "is                    True              False             True\n",
      "an                    True              False             True\n",
      "open                  True              False             False\n",
      "-                     False             True              False\n",
      "source                True              False             False\n",
      "library               True              False             False\n",
      "for                   True              False             True\n",
      "NLP                   True              False             False\n",
      ",                     False             True              False\n",
      "mostly                True              False             True\n",
      "used                  True              False             True\n",
      "in                    True              False             True\n",
      "Python                True              False             False\n",
      "and                   True              False             True\n",
      "Cython                True              False             False\n",
      "\n",
      "                     False             False             False\n",
      "which                 True              False             True\n",
      "provides              True              False             False\n",
      "pre                   True              False             False\n",
      "-                     False             True              False\n",
      "trained               True              False             False\n",
      "Neural                True              False             False\n",
      "Networks              True              False             False\n",
      ",                     False             True              False\n",
      "specifically          True              False             False\n",
      ",                     False             True              False\n",
      "Convolutional         True              False             False\n",
      "Neural                True              False             False\n",
      "\n",
      "                     False             False             False\n",
      "Networks              True              False             False\n",
      "(                     False             True              False\n",
      "CNNs                  True              False             False\n",
      ")                     False             True              False\n",
      "to                    True              False             True\n",
      "perform               True              False             False\n",
      "NLP                   True              False             False\n",
      "related               True              False             False\n",
      "taks                  True              False             False\n",
      "in                    True              False             True\n",
      "several               True              False             True\n",
      "languages             True              False             False\n",
      "(                     False             True              False\n",
      "will                  True              False             True\n",
      "\n",
      "                     False             False             False\n",
      "provide               True              False             False\n",
      "images                True              False             False\n",
      "with                  True              False             True\n",
      "examples              True              False             False\n",
      ")                     False             True              False\n",
      ".                     False             True              False\n"
     ]
    }
   ],
   "source": [
    "print(\n",
    "    f\"{'Text with whitespace':22}\"\n",
    "    f\"{'Is Alphanumeric?':18}\"\n",
    "    f\"{'Is Punctuation?':18}\"\n",
    "    f\"{'Is Stop Word?'}\"\n",
    ")\n",
    "for token in about_doc:\n",
    "    print(\n",
    "         f\"{str(token.text_with_ws):22}\"\n",
    "         f\"{str(token.is_alpha):18}\"\n",
    "         f\"{str(token.is_punct):18}\"\n",
    "         f\"{str(token.is_stop)}\"\n",
    "    )"
   ]
  },
  {
   "cell_type": "markdown",
   "id": "e3b5ba00-f7fa-44ec-aae1-f51d552c1253",
   "metadata": {},
   "source": [
    "---\n",
    "## Stop Words\n",
    "\n",
    "Stop words are typically defined as the most common words in a language. In the English language, some examples of stop words are the, are, but, and they. Most sentences need to contain stop words in order to be full sentences that make grammatical sense."
   ]
  },
  {
   "cell_type": "code",
   "execution_count": 12,
   "id": "1480f80a-5035-4e44-92c3-1bb7605af8b7",
   "metadata": {},
   "outputs": [
    {
     "data": {
      "text/plain": [
       "326"
      ]
     },
     "execution_count": 12,
     "metadata": {},
     "output_type": "execute_result"
    }
   ],
   "source": [
    "spacy_stopwords = spacy.lang.en.stop_words.STOP_WORDS\n",
    "len(spacy_stopwords)"
   ]
  },
  {
   "cell_type": "code",
   "execution_count": 13,
   "id": "883b452d-a6dd-4ba4-9476-d70380a1b6cc",
   "metadata": {},
   "outputs": [
    {
     "name": "stdout",
     "output_type": "stream",
     "text": [
      "everywhere\n",
      "becomes\n",
      "however\n",
      "via\n",
      "again\n",
      "all\n",
      "of\n",
      "herself\n",
      "either\n",
      "perhaps\n"
     ]
    }
   ],
   "source": [
    "for stop_word in list(spacy_stopwords)[:10]:\n",
    "    print(stop_word)"
   ]
  },
  {
   "cell_type": "code",
   "execution_count": 14,
   "id": "0b129d87-850b-4ec5-b28b-33b35fd2321d",
   "metadata": {},
   "outputs": [
    {
     "data": {
      "text/plain": [
       "spaCy is an open-source library for NLP, mostly used in Python and Cython\n",
       "    which provides pre-trained Neural Networks, specifically, Convolutional Neural\n",
       "    Networks (CNNs) to perform NLP related taks in several languages (will\n",
       "    provide images with examples)."
      ]
     },
     "execution_count": 14,
     "metadata": {},
     "output_type": "execute_result"
    }
   ],
   "source": [
    "about_doc"
   ]
  },
  {
   "cell_type": "code",
   "execution_count": 15,
   "id": "6d80ce71-c8f0-4486-807c-e716bebf5de5",
   "metadata": {},
   "outputs": [
    {
     "data": {
      "text/plain": [
       "51"
      ]
     },
     "execution_count": 15,
     "metadata": {},
     "output_type": "execute_result"
    }
   ],
   "source": [
    "len(about_doc)"
   ]
  },
  {
   "cell_type": "code",
   "execution_count": 16,
   "id": "bbadac1f-60b1-4e75-99d9-9058f45c6835",
   "metadata": {},
   "outputs": [
    {
     "name": "stdout",
     "output_type": "stream",
     "text": [
      "[spaCy, open, -, source, library, NLP, ,, Python, Cython, \n",
      "    , provides, pre, -, trained, Neural, Networks, ,, specifically, ,, Convolutional, Neural, \n",
      "    , Networks, (, CNNs, ), perform, NLP, related, taks, languages, (, \n",
      "    , provide, images, examples, ), .]\n"
     ]
    }
   ],
   "source": [
    "print([token for token in about_doc if not token.is_stop])"
   ]
  },
  {
   "cell_type": "code",
   "execution_count": 17,
   "id": "7ba86d40-bc93-46ef-b426-e16310050a51",
   "metadata": {
    "tags": []
   },
   "outputs": [
    {
     "data": {
      "text/plain": [
       "38"
      ]
     },
     "execution_count": 17,
     "metadata": {},
     "output_type": "execute_result"
    }
   ],
   "source": [
    "len([token for token in about_doc if not token.is_stop])"
   ]
  },
  {
   "cell_type": "markdown",
   "id": "a91cc822-3163-4cc1-a20f-0aecdc114896",
   "metadata": {},
   "source": [
    "---\n",
    "## Lematization\n",
    "\n",
    "Lemmatization is the process of reducing inflected forms of a word while still ensuring that the reduced form belongs to the language. This reduced form, or root word, is called a **lemma**."
   ]
  },
  {
   "cell_type": "code",
   "execution_count": 18,
   "id": "a424db38-00fd-411b-b120-d34de8ce28d9",
   "metadata": {},
   "outputs": [
    {
     "name": "stdout",
     "output_type": "stream",
     "text": [
      "               spaCy : spacy\n",
      "                  is : be\n",
      "                used : use\n",
      "            provides : provide\n",
      "             trained : train\n",
      "             related : relate\n",
      "                taks : tak\n",
      "           languages : language\n",
      "              images : image\n",
      "            examples : example\n"
     ]
    }
   ],
   "source": [
    "for token in about_doc:\n",
    "    if str(token) != str(token.lemma_):\n",
    "        print(f\"{str(token):>20} : {str(token.lemma_)}\")"
   ]
  },
  {
   "cell_type": "markdown",
   "id": "c1eeb1b3-ceff-42f2-a66a-a5406944237e",
   "metadata": {},
   "source": [
    "---\n",
    "## Word Frecuency"
   ]
  },
  {
   "cell_type": "code",
   "execution_count": 19,
   "id": "8ae88fcb-3141-409a-a769-e610f9b3a26d",
   "metadata": {},
   "outputs": [],
   "source": [
    "nlp = spacy.load(\"en_core_web_sm\")\n",
    "complete_text = (\n",
    "    \"\"\"It has never been easier for individual investors to get started trading\n",
    "    stocks or options. Companies like Robinhood and Webull even\n",
    "    offer zero commission trades, no account minimum size, and incentives\n",
    "    like a free stock if a user creates an account. Recently, there\n",
    "    has been a huge increase in the growth of users of these types of platforms.\n",
    "    The combination of many people out of work because of the\n",
    "    coronavirus and the US government stimulus package appears to have\n",
    "    sparked this. This surge in new investors has sparked tons of activity\n",
    "    on popular social media websites like Reddit. There users regularly\n",
    "    post stock recommendations and trading strategies. It appears\n",
    "    that many Reddit traders are grouping together and causing irrational\n",
    "    stock market moves. Panic buying stocks for companies that just declared\n",
    "    bankruptcy, betting against Warren Buffet, and ignoring the\n",
    "    impact of the coronavirus on airlines and cruise ships are a few of the\n",
    "    unusual market moves lately. The purpose of this project is to identify\n",
    "    if there is a relationship between the Reddit sentiment on stocks and\n",
    "    performance.\"\"\"\n",
    ")"
   ]
  },
  {
   "cell_type": "code",
   "execution_count": 20,
   "id": "60e6bdf3-81b9-4604-bf36-c7c78ee6d9b4",
   "metadata": {},
   "outputs": [],
   "source": [
    "complete_doc = nlp(complete_text)\n",
    "words = [\n",
    "    token.text\n",
    "    for token in complete_doc\n",
    "    if not token.is_stop and not token.is_punct\n",
    "]"
   ]
  },
  {
   "cell_type": "code",
   "execution_count": 21,
   "id": "153b48ae-fa61-4bf3-8880-bfef5e6233f2",
   "metadata": {},
   "outputs": [
    {
     "name": "stdout",
     "output_type": "stream",
     "text": [
      "['easier', 'individual', 'investors', 'started', 'trading', '\\n    ', 'stocks', 'options', 'Companies', 'like', 'Robinhood', 'Webull', '\\n    ', 'offer', 'zero', 'commission', 'trades', 'account', 'minimum', 'size', 'incentives', '\\n    ', 'like', 'free', 'stock', 'user', 'creates', 'account', 'Recently', '\\n    ', 'huge', 'increase', 'growth', 'users', 'types', 'platforms', '\\n    ', 'combination', 'people', 'work', '\\n    ', 'coronavirus', 'government', 'stimulus', 'package', 'appears', '\\n    ', 'sparked', 'surge', 'new', 'investors', 'sparked', 'tons', 'activity', '\\n    ', 'popular', 'social', 'media', 'websites', 'like', 'Reddit', 'users', 'regularly', '\\n    ', 'post', 'stock', 'recommendations', 'trading', 'strategies', 'appears', '\\n    ', 'Reddit', 'traders', 'grouping', 'causing', 'irrational', '\\n    ', 'stock', 'market', 'moves', 'Panic', 'buying', 'stocks', 'companies', 'declared', '\\n    ', 'bankruptcy', 'betting', 'Warren', 'Buffet', 'ignoring', '\\n    ', 'impact', 'coronavirus', 'airlines', 'cruise', 'ships', '\\n    ', 'unusual', 'market', 'moves', 'lately', 'purpose', 'project', 'identify', '\\n    ', 'relationship', 'Reddit', 'sentiment', 'stocks', '\\n    ', 'performance']\n"
     ]
    }
   ],
   "source": [
    "print(words)"
   ]
  },
  {
   "cell_type": "code",
   "execution_count": 22,
   "id": "539703fb-e220-442d-99ad-d10c8f82d9c6",
   "metadata": {},
   "outputs": [
    {
     "name": "stdout",
     "output_type": "stream",
     "text": [
      "[('\\n    ', 16), ('stocks', 3), ('like', 3), ('stock', 3), ('Reddit', 3), ('investors', 2), ('trading', 2), ('account', 2), ('users', 2), ('coronavirus', 2), ('appears', 2), ('sparked', 2), ('market', 2), ('moves', 2), ('easier', 1), ('individual', 1), ('started', 1), ('options', 1), ('Companies', 1), ('Robinhood', 1), ('Webull', 1), ('offer', 1), ('zero', 1), ('commission', 1), ('trades', 1), ('minimum', 1), ('size', 1), ('incentives', 1), ('free', 1), ('user', 1), ('creates', 1), ('Recently', 1), ('huge', 1), ('increase', 1), ('growth', 1), ('types', 1), ('platforms', 1), ('combination', 1), ('people', 1), ('work', 1), ('government', 1), ('stimulus', 1), ('package', 1), ('surge', 1), ('new', 1), ('tons', 1), ('activity', 1), ('popular', 1), ('social', 1), ('media', 1), ('websites', 1), ('regularly', 1), ('post', 1), ('recommendations', 1), ('strategies', 1), ('traders', 1), ('grouping', 1), ('causing', 1), ('irrational', 1), ('Panic', 1), ('buying', 1), ('companies', 1), ('declared', 1), ('bankruptcy', 1), ('betting', 1), ('Warren', 1), ('Buffet', 1), ('ignoring', 1), ('impact', 1), ('airlines', 1), ('cruise', 1), ('ships', 1), ('unusual', 1), ('lately', 1), ('purpose', 1), ('project', 1), ('identify', 1), ('relationship', 1), ('sentiment', 1), ('performance', 1)]\n"
     ]
    }
   ],
   "source": [
    "common_words = Counter(words).most_common()\n",
    "print(common_words)"
   ]
  },
  {
   "cell_type": "markdown",
   "id": "420b8928-5020-4fa0-8ba4-1ad11d3ccbf1",
   "metadata": {},
   "source": [
    "---\n",
    "## Part-of-Speech tagging\n",
    "\n",
    "Part of speech or POS is a grammatical role that explains how a particular word is used in a sentence. There are typically eight parts of speech:\n",
    "\n",
    "1. Noun\n",
    "2. Pronoun\n",
    "3. Adjective\n",
    "4. Verb\n",
    "5. Adverb\n",
    "6. Preposition\n",
    "7. Conjunction\n",
    "8. Interjection\n",
    "\n",
    "**Part-of-speech** tagging is the process of assigning a **POS** tag to each token depending on its usage in the sentence. POS tags are useful for assigning a syntactic category like noun or verb to each word."
   ]
  },
  {
   "cell_type": "code",
   "execution_count": 23,
   "id": "7d98bdd9-9b88-4d26-90a1-3040000c7478",
   "metadata": {},
   "outputs": [
    {
     "name": "stdout",
     "output_type": "stream",
     "text": [
      "\n",
      "        TOKEN: spaCy\n",
      "        =====\n",
      "        TAG: UH         POS: INTJ\n",
      "        EXPLANATION: interjection\n",
      "\n",
      "        TOKEN: is\n",
      "        =====\n",
      "        TAG: VBZ        POS: AUX\n",
      "        EXPLANATION: verb, 3rd person singular present\n",
      "\n",
      "        TOKEN: an\n",
      "        =====\n",
      "        TAG: DT         POS: DET\n",
      "        EXPLANATION: determiner\n",
      "\n",
      "        TOKEN: open\n",
      "        =====\n",
      "        TAG: JJ         POS: ADJ\n",
      "        EXPLANATION: adjective (English), other noun-modifier (Chinese)\n",
      "\n",
      "        TOKEN: -\n",
      "        =====\n",
      "        TAG: HYPH       POS: PUNCT\n",
      "        EXPLANATION: punctuation mark, hyphen\n"
     ]
    }
   ],
   "source": [
    "for token in about_doc[:5]:\n",
    "    print(\n",
    "        f\"\"\"\n",
    "        TOKEN: {str(token)}\n",
    "        =====\n",
    "        TAG: {str(token.tag_):10} POS: {token.pos_}\n",
    "        EXPLANATION: {spacy.explain(token.tag_)}\"\"\"\n",
    "    )"
   ]
  },
  {
   "cell_type": "code",
   "execution_count": 24,
   "id": "fe8f2117-b678-43a5-bd96-5536c1a8ca56",
   "metadata": {},
   "outputs": [],
   "source": [
    "nouns = []\n",
    "adjetives = []\n",
    "for token in about_doc:\n",
    "    if token.pos_ == \"NOUN\":\n",
    "        nouns.append(token)\n",
    "    if token.pos == \"ADJ\":\n",
    "        adjetives.append(token)"
   ]
  },
  {
   "cell_type": "code",
   "execution_count": 25,
   "id": "bcd3a73e-706f-4ab5-b441-7704280fbadd",
   "metadata": {},
   "outputs": [
    {
     "data": {
      "text/plain": [
       "[source, library, taks, languages, images, examples]"
      ]
     },
     "execution_count": 25,
     "metadata": {},
     "output_type": "execute_result"
    }
   ],
   "source": [
    "nouns"
   ]
  },
  {
   "cell_type": "code",
   "execution_count": 26,
   "id": "97fd84a2-d798-48fb-ba4c-407d4dc6be4b",
   "metadata": {},
   "outputs": [
    {
     "data": {
      "text/plain": [
       "[]"
      ]
     },
     "execution_count": 26,
     "metadata": {},
     "output_type": "execute_result"
    }
   ],
   "source": [
    "adjetives"
   ]
  },
  {
   "cell_type": "markdown",
   "id": "b258f584-a1c2-4864-b938-679685c30c20",
   "metadata": {},
   "source": [
    "---\n",
    "## Visualization: Using displaCy"
   ]
  },
  {
   "cell_type": "code",
   "execution_count": 36,
   "id": "157c8d35-85ad-4315-9486-1b6d885bbf5b",
   "metadata": {},
   "outputs": [
    {
     "name": "stderr",
     "output_type": "stream",
     "text": [
      "C:\\Users\\Usuario\\anaconda3\\lib\\site-packages\\spacy\\displacy\\__init__.py:106: UserWarning: [W011] It looks like you're calling displacy.serve from within a Jupyter notebook or a similar environment. This likely means you're already running a local web server, so there's no need to make displaCy start another one. Instead, you should be able to replace displacy.serve with displacy.render to show the visualization.\n",
      "  warnings.warn(Warnings.W011)\n"
     ]
    },
    {
     "data": {
      "text/html": [
       "<span class=\"tex2jax_ignore\"><!DOCTYPE html>\n",
       "<html lang=\"en\">\n",
       "    <head>\n",
       "        <title>displaCy</title>\n",
       "    </head>\n",
       "\n",
       "    <body style=\"font-size: 16px; font-family: -apple-system, BlinkMacSystemFont, 'Segoe UI', Helvetica, Arial, sans-serif, 'Apple Color Emoji', 'Segoe UI Emoji', 'Segoe UI Symbol'; padding: 4rem 2rem; direction: ltr\">\n",
       "<figure style=\"margin-bottom: 6rem\">\n",
       "<svg xmlns=\"http://www.w3.org/2000/svg\" xmlns:xlink=\"http://www.w3.org/1999/xlink\" xml:lang=\"en\" id=\"46c430f119c94810ab8bd2c9ae20e47a-0\" class=\"displacy\" width=\"7225\" height=\"662.0\" direction=\"ltr\" style=\"max-width: none; height: 662.0px; color: #000000; background: #ffffff; font-family: Arial; direction: ltr\">\n",
       "<text class=\"displacy-token\" fill=\"currentColor\" text-anchor=\"middle\" y=\"572.0\">\n",
       "    <tspan class=\"displacy-word\" fill=\"currentColor\" x=\"50\">spaCy</tspan>\n",
       "    <tspan class=\"displacy-tag\" dy=\"2em\" fill=\"currentColor\" x=\"50\">INTJ</tspan>\n",
       "</text>\n",
       "\n",
       "<text class=\"displacy-token\" fill=\"currentColor\" text-anchor=\"middle\" y=\"572.0\">\n",
       "    <tspan class=\"displacy-word\" fill=\"currentColor\" x=\"225\">is</tspan>\n",
       "    <tspan class=\"displacy-tag\" dy=\"2em\" fill=\"currentColor\" x=\"225\">AUX</tspan>\n",
       "</text>\n",
       "\n",
       "<text class=\"displacy-token\" fill=\"currentColor\" text-anchor=\"middle\" y=\"572.0\">\n",
       "    <tspan class=\"displacy-word\" fill=\"currentColor\" x=\"400\">an</tspan>\n",
       "    <tspan class=\"displacy-tag\" dy=\"2em\" fill=\"currentColor\" x=\"400\">DET</tspan>\n",
       "</text>\n",
       "\n",
       "<text class=\"displacy-token\" fill=\"currentColor\" text-anchor=\"middle\" y=\"572.0\">\n",
       "    <tspan class=\"displacy-word\" fill=\"currentColor\" x=\"575\">open-</tspan>\n",
       "    <tspan class=\"displacy-tag\" dy=\"2em\" fill=\"currentColor\" x=\"575\">ADJ</tspan>\n",
       "</text>\n",
       "\n",
       "<text class=\"displacy-token\" fill=\"currentColor\" text-anchor=\"middle\" y=\"572.0\">\n",
       "    <tspan class=\"displacy-word\" fill=\"currentColor\" x=\"750\">source</tspan>\n",
       "    <tspan class=\"displacy-tag\" dy=\"2em\" fill=\"currentColor\" x=\"750\">NOUN</tspan>\n",
       "</text>\n",
       "\n",
       "<text class=\"displacy-token\" fill=\"currentColor\" text-anchor=\"middle\" y=\"572.0\">\n",
       "    <tspan class=\"displacy-word\" fill=\"currentColor\" x=\"925\">library</tspan>\n",
       "    <tspan class=\"displacy-tag\" dy=\"2em\" fill=\"currentColor\" x=\"925\">NOUN</tspan>\n",
       "</text>\n",
       "\n",
       "<text class=\"displacy-token\" fill=\"currentColor\" text-anchor=\"middle\" y=\"572.0\">\n",
       "    <tspan class=\"displacy-word\" fill=\"currentColor\" x=\"1100\">for</tspan>\n",
       "    <tspan class=\"displacy-tag\" dy=\"2em\" fill=\"currentColor\" x=\"1100\">ADP</tspan>\n",
       "</text>\n",
       "\n",
       "<text class=\"displacy-token\" fill=\"currentColor\" text-anchor=\"middle\" y=\"572.0\">\n",
       "    <tspan class=\"displacy-word\" fill=\"currentColor\" x=\"1275\">NLP,</tspan>\n",
       "    <tspan class=\"displacy-tag\" dy=\"2em\" fill=\"currentColor\" x=\"1275\">PROPN</tspan>\n",
       "</text>\n",
       "\n",
       "<text class=\"displacy-token\" fill=\"currentColor\" text-anchor=\"middle\" y=\"572.0\">\n",
       "    <tspan class=\"displacy-word\" fill=\"currentColor\" x=\"1450\">mostly</tspan>\n",
       "    <tspan class=\"displacy-tag\" dy=\"2em\" fill=\"currentColor\" x=\"1450\">ADV</tspan>\n",
       "</text>\n",
       "\n",
       "<text class=\"displacy-token\" fill=\"currentColor\" text-anchor=\"middle\" y=\"572.0\">\n",
       "    <tspan class=\"displacy-word\" fill=\"currentColor\" x=\"1625\">used</tspan>\n",
       "    <tspan class=\"displacy-tag\" dy=\"2em\" fill=\"currentColor\" x=\"1625\">VERB</tspan>\n",
       "</text>\n",
       "\n",
       "<text class=\"displacy-token\" fill=\"currentColor\" text-anchor=\"middle\" y=\"572.0\">\n",
       "    <tspan class=\"displacy-word\" fill=\"currentColor\" x=\"1800\">in</tspan>\n",
       "    <tspan class=\"displacy-tag\" dy=\"2em\" fill=\"currentColor\" x=\"1800\">ADP</tspan>\n",
       "</text>\n",
       "\n",
       "<text class=\"displacy-token\" fill=\"currentColor\" text-anchor=\"middle\" y=\"572.0\">\n",
       "    <tspan class=\"displacy-word\" fill=\"currentColor\" x=\"1975\">Python</tspan>\n",
       "    <tspan class=\"displacy-tag\" dy=\"2em\" fill=\"currentColor\" x=\"1975\">PROPN</tspan>\n",
       "</text>\n",
       "\n",
       "<text class=\"displacy-token\" fill=\"currentColor\" text-anchor=\"middle\" y=\"572.0\">\n",
       "    <tspan class=\"displacy-word\" fill=\"currentColor\" x=\"2150\">and</tspan>\n",
       "    <tspan class=\"displacy-tag\" dy=\"2em\" fill=\"currentColor\" x=\"2150\">CCONJ</tspan>\n",
       "</text>\n",
       "\n",
       "<text class=\"displacy-token\" fill=\"currentColor\" text-anchor=\"middle\" y=\"572.0\">\n",
       "    <tspan class=\"displacy-word\" fill=\"currentColor\" x=\"2325\">Cython</tspan>\n",
       "    <tspan class=\"displacy-tag\" dy=\"2em\" fill=\"currentColor\" x=\"2325\">PROPN</tspan>\n",
       "</text>\n",
       "\n",
       "<text class=\"displacy-token\" fill=\"currentColor\" text-anchor=\"middle\" y=\"572.0\">\n",
       "    <tspan class=\"displacy-word\" fill=\"currentColor\" x=\"2500\">\n",
       "    </tspan>\n",
       "    <tspan class=\"displacy-tag\" dy=\"2em\" fill=\"currentColor\" x=\"2500\">SPACE</tspan>\n",
       "</text>\n",
       "\n",
       "<text class=\"displacy-token\" fill=\"currentColor\" text-anchor=\"middle\" y=\"572.0\">\n",
       "    <tspan class=\"displacy-word\" fill=\"currentColor\" x=\"2675\">which</tspan>\n",
       "    <tspan class=\"displacy-tag\" dy=\"2em\" fill=\"currentColor\" x=\"2675\">PRON</tspan>\n",
       "</text>\n",
       "\n",
       "<text class=\"displacy-token\" fill=\"currentColor\" text-anchor=\"middle\" y=\"572.0\">\n",
       "    <tspan class=\"displacy-word\" fill=\"currentColor\" x=\"2850\">provides</tspan>\n",
       "    <tspan class=\"displacy-tag\" dy=\"2em\" fill=\"currentColor\" x=\"2850\">VERB</tspan>\n",
       "</text>\n",
       "\n",
       "<text class=\"displacy-token\" fill=\"currentColor\" text-anchor=\"middle\" y=\"572.0\">\n",
       "    <tspan class=\"displacy-word\" fill=\"currentColor\" x=\"3025\">pre-</tspan>\n",
       "    <tspan class=\"displacy-tag\" dy=\"2em\" fill=\"currentColor\" x=\"3025\">ADJ</tspan>\n",
       "</text>\n",
       "\n",
       "<text class=\"displacy-token\" fill=\"currentColor\" text-anchor=\"middle\" y=\"572.0\">\n",
       "    <tspan class=\"displacy-word\" fill=\"currentColor\" x=\"3200\">trained</tspan>\n",
       "    <tspan class=\"displacy-tag\" dy=\"2em\" fill=\"currentColor\" x=\"3200\">VERB</tspan>\n",
       "</text>\n",
       "\n",
       "<text class=\"displacy-token\" fill=\"currentColor\" text-anchor=\"middle\" y=\"572.0\">\n",
       "    <tspan class=\"displacy-word\" fill=\"currentColor\" x=\"3375\">Neural</tspan>\n",
       "    <tspan class=\"displacy-tag\" dy=\"2em\" fill=\"currentColor\" x=\"3375\">PROPN</tspan>\n",
       "</text>\n",
       "\n",
       "<text class=\"displacy-token\" fill=\"currentColor\" text-anchor=\"middle\" y=\"572.0\">\n",
       "    <tspan class=\"displacy-word\" fill=\"currentColor\" x=\"3550\">Networks,</tspan>\n",
       "    <tspan class=\"displacy-tag\" dy=\"2em\" fill=\"currentColor\" x=\"3550\">PROPN</tspan>\n",
       "</text>\n",
       "\n",
       "<text class=\"displacy-token\" fill=\"currentColor\" text-anchor=\"middle\" y=\"572.0\">\n",
       "    <tspan class=\"displacy-word\" fill=\"currentColor\" x=\"3725\">specifically,</tspan>\n",
       "    <tspan class=\"displacy-tag\" dy=\"2em\" fill=\"currentColor\" x=\"3725\">ADV</tspan>\n",
       "</text>\n",
       "\n",
       "<text class=\"displacy-token\" fill=\"currentColor\" text-anchor=\"middle\" y=\"572.0\">\n",
       "    <tspan class=\"displacy-word\" fill=\"currentColor\" x=\"3900\">Convolutional</tspan>\n",
       "    <tspan class=\"displacy-tag\" dy=\"2em\" fill=\"currentColor\" x=\"3900\">PROPN</tspan>\n",
       "</text>\n",
       "\n",
       "<text class=\"displacy-token\" fill=\"currentColor\" text-anchor=\"middle\" y=\"572.0\">\n",
       "    <tspan class=\"displacy-word\" fill=\"currentColor\" x=\"4075\">Neural</tspan>\n",
       "    <tspan class=\"displacy-tag\" dy=\"2em\" fill=\"currentColor\" x=\"4075\">PROPN</tspan>\n",
       "</text>\n",
       "\n",
       "<text class=\"displacy-token\" fill=\"currentColor\" text-anchor=\"middle\" y=\"572.0\">\n",
       "    <tspan class=\"displacy-word\" fill=\"currentColor\" x=\"4250\">\n",
       "    </tspan>\n",
       "    <tspan class=\"displacy-tag\" dy=\"2em\" fill=\"currentColor\" x=\"4250\">SPACE</tspan>\n",
       "</text>\n",
       "\n",
       "<text class=\"displacy-token\" fill=\"currentColor\" text-anchor=\"middle\" y=\"572.0\">\n",
       "    <tspan class=\"displacy-word\" fill=\"currentColor\" x=\"4425\">Networks (</tspan>\n",
       "    <tspan class=\"displacy-tag\" dy=\"2em\" fill=\"currentColor\" x=\"4425\">PROPN</tspan>\n",
       "</text>\n",
       "\n",
       "<text class=\"displacy-token\" fill=\"currentColor\" text-anchor=\"middle\" y=\"572.0\">\n",
       "    <tspan class=\"displacy-word\" fill=\"currentColor\" x=\"4600\">CNNs)</tspan>\n",
       "    <tspan class=\"displacy-tag\" dy=\"2em\" fill=\"currentColor\" x=\"4600\">PROPN</tspan>\n",
       "</text>\n",
       "\n",
       "<text class=\"displacy-token\" fill=\"currentColor\" text-anchor=\"middle\" y=\"572.0\">\n",
       "    <tspan class=\"displacy-word\" fill=\"currentColor\" x=\"4775\">to</tspan>\n",
       "    <tspan class=\"displacy-tag\" dy=\"2em\" fill=\"currentColor\" x=\"4775\">PART</tspan>\n",
       "</text>\n",
       "\n",
       "<text class=\"displacy-token\" fill=\"currentColor\" text-anchor=\"middle\" y=\"572.0\">\n",
       "    <tspan class=\"displacy-word\" fill=\"currentColor\" x=\"4950\">perform</tspan>\n",
       "    <tspan class=\"displacy-tag\" dy=\"2em\" fill=\"currentColor\" x=\"4950\">VERB</tspan>\n",
       "</text>\n",
       "\n",
       "<text class=\"displacy-token\" fill=\"currentColor\" text-anchor=\"middle\" y=\"572.0\">\n",
       "    <tspan class=\"displacy-word\" fill=\"currentColor\" x=\"5125\">NLP</tspan>\n",
       "    <tspan class=\"displacy-tag\" dy=\"2em\" fill=\"currentColor\" x=\"5125\">PROPN</tspan>\n",
       "</text>\n",
       "\n",
       "<text class=\"displacy-token\" fill=\"currentColor\" text-anchor=\"middle\" y=\"572.0\">\n",
       "    <tspan class=\"displacy-word\" fill=\"currentColor\" x=\"5300\">related</tspan>\n",
       "    <tspan class=\"displacy-tag\" dy=\"2em\" fill=\"currentColor\" x=\"5300\">VERB</tspan>\n",
       "</text>\n",
       "\n",
       "<text class=\"displacy-token\" fill=\"currentColor\" text-anchor=\"middle\" y=\"572.0\">\n",
       "    <tspan class=\"displacy-word\" fill=\"currentColor\" x=\"5475\">taks</tspan>\n",
       "    <tspan class=\"displacy-tag\" dy=\"2em\" fill=\"currentColor\" x=\"5475\">NOUN</tspan>\n",
       "</text>\n",
       "\n",
       "<text class=\"displacy-token\" fill=\"currentColor\" text-anchor=\"middle\" y=\"572.0\">\n",
       "    <tspan class=\"displacy-word\" fill=\"currentColor\" x=\"5650\">in</tspan>\n",
       "    <tspan class=\"displacy-tag\" dy=\"2em\" fill=\"currentColor\" x=\"5650\">ADP</tspan>\n",
       "</text>\n",
       "\n",
       "<text class=\"displacy-token\" fill=\"currentColor\" text-anchor=\"middle\" y=\"572.0\">\n",
       "    <tspan class=\"displacy-word\" fill=\"currentColor\" x=\"5825\">several</tspan>\n",
       "    <tspan class=\"displacy-tag\" dy=\"2em\" fill=\"currentColor\" x=\"5825\">ADJ</tspan>\n",
       "</text>\n",
       "\n",
       "<text class=\"displacy-token\" fill=\"currentColor\" text-anchor=\"middle\" y=\"572.0\">\n",
       "    <tspan class=\"displacy-word\" fill=\"currentColor\" x=\"6000\">languages (</tspan>\n",
       "    <tspan class=\"displacy-tag\" dy=\"2em\" fill=\"currentColor\" x=\"6000\">NOUN</tspan>\n",
       "</text>\n",
       "\n",
       "<text class=\"displacy-token\" fill=\"currentColor\" text-anchor=\"middle\" y=\"572.0\">\n",
       "    <tspan class=\"displacy-word\" fill=\"currentColor\" x=\"6175\">will</tspan>\n",
       "    <tspan class=\"displacy-tag\" dy=\"2em\" fill=\"currentColor\" x=\"6175\">AUX</tspan>\n",
       "</text>\n",
       "\n",
       "<text class=\"displacy-token\" fill=\"currentColor\" text-anchor=\"middle\" y=\"572.0\">\n",
       "    <tspan class=\"displacy-word\" fill=\"currentColor\" x=\"6350\">\n",
       "    </tspan>\n",
       "    <tspan class=\"displacy-tag\" dy=\"2em\" fill=\"currentColor\" x=\"6350\">SPACE</tspan>\n",
       "</text>\n",
       "\n",
       "<text class=\"displacy-token\" fill=\"currentColor\" text-anchor=\"middle\" y=\"572.0\">\n",
       "    <tspan class=\"displacy-word\" fill=\"currentColor\" x=\"6525\">provide</tspan>\n",
       "    <tspan class=\"displacy-tag\" dy=\"2em\" fill=\"currentColor\" x=\"6525\">VERB</tspan>\n",
       "</text>\n",
       "\n",
       "<text class=\"displacy-token\" fill=\"currentColor\" text-anchor=\"middle\" y=\"572.0\">\n",
       "    <tspan class=\"displacy-word\" fill=\"currentColor\" x=\"6700\">images</tspan>\n",
       "    <tspan class=\"displacy-tag\" dy=\"2em\" fill=\"currentColor\" x=\"6700\">NOUN</tspan>\n",
       "</text>\n",
       "\n",
       "<text class=\"displacy-token\" fill=\"currentColor\" text-anchor=\"middle\" y=\"572.0\">\n",
       "    <tspan class=\"displacy-word\" fill=\"currentColor\" x=\"6875\">with</tspan>\n",
       "    <tspan class=\"displacy-tag\" dy=\"2em\" fill=\"currentColor\" x=\"6875\">ADP</tspan>\n",
       "</text>\n",
       "\n",
       "<text class=\"displacy-token\" fill=\"currentColor\" text-anchor=\"middle\" y=\"572.0\">\n",
       "    <tspan class=\"displacy-word\" fill=\"currentColor\" x=\"7050\">examples).</tspan>\n",
       "    <tspan class=\"displacy-tag\" dy=\"2em\" fill=\"currentColor\" x=\"7050\">NOUN</tspan>\n",
       "</text>\n",
       "\n",
       "<g class=\"displacy-arrow\">\n",
       "    <path class=\"displacy-arc\" id=\"arrow-46c430f119c94810ab8bd2c9ae20e47a-0-0\" stroke-width=\"2px\" d=\"M70,527.0 C70,439.5 200.0,439.5 200.0,527.0\" fill=\"none\" stroke=\"currentColor\"/>\n",
       "    <text dy=\"1.25em\" style=\"font-size: 0.8em; letter-spacing: 1px\">\n",
       "        <textPath xlink:href=\"#arrow-46c430f119c94810ab8bd2c9ae20e47a-0-0\" class=\"displacy-label\" startOffset=\"50%\" side=\"left\" fill=\"currentColor\" text-anchor=\"middle\">nsubj</textPath>\n",
       "    </text>\n",
       "    <path class=\"displacy-arrowhead\" d=\"M70,529.0 L62,517.0 78,517.0\" fill=\"currentColor\"/>\n",
       "</g>\n",
       "\n",
       "<g class=\"displacy-arrow\">\n",
       "    <path class=\"displacy-arc\" id=\"arrow-46c430f119c94810ab8bd2c9ae20e47a-0-1\" stroke-width=\"2px\" d=\"M420,527.0 C420,352.0 905.0,352.0 905.0,527.0\" fill=\"none\" stroke=\"currentColor\"/>\n",
       "    <text dy=\"1.25em\" style=\"font-size: 0.8em; letter-spacing: 1px\">\n",
       "        <textPath xlink:href=\"#arrow-46c430f119c94810ab8bd2c9ae20e47a-0-1\" class=\"displacy-label\" startOffset=\"50%\" side=\"left\" fill=\"currentColor\" text-anchor=\"middle\">det</textPath>\n",
       "    </text>\n",
       "    <path class=\"displacy-arrowhead\" d=\"M420,529.0 L412,517.0 428,517.0\" fill=\"currentColor\"/>\n",
       "</g>\n",
       "\n",
       "<g class=\"displacy-arrow\">\n",
       "    <path class=\"displacy-arc\" id=\"arrow-46c430f119c94810ab8bd2c9ae20e47a-0-2\" stroke-width=\"2px\" d=\"M595,527.0 C595,439.5 725.0,439.5 725.0,527.0\" fill=\"none\" stroke=\"currentColor\"/>\n",
       "    <text dy=\"1.25em\" style=\"font-size: 0.8em; letter-spacing: 1px\">\n",
       "        <textPath xlink:href=\"#arrow-46c430f119c94810ab8bd2c9ae20e47a-0-2\" class=\"displacy-label\" startOffset=\"50%\" side=\"left\" fill=\"currentColor\" text-anchor=\"middle\">amod</textPath>\n",
       "    </text>\n",
       "    <path class=\"displacy-arrowhead\" d=\"M595,529.0 L587,517.0 603,517.0\" fill=\"currentColor\"/>\n",
       "</g>\n",
       "\n",
       "<g class=\"displacy-arrow\">\n",
       "    <path class=\"displacy-arc\" id=\"arrow-46c430f119c94810ab8bd2c9ae20e47a-0-3\" stroke-width=\"2px\" d=\"M770,527.0 C770,439.5 900.0,439.5 900.0,527.0\" fill=\"none\" stroke=\"currentColor\"/>\n",
       "    <text dy=\"1.25em\" style=\"font-size: 0.8em; letter-spacing: 1px\">\n",
       "        <textPath xlink:href=\"#arrow-46c430f119c94810ab8bd2c9ae20e47a-0-3\" class=\"displacy-label\" startOffset=\"50%\" side=\"left\" fill=\"currentColor\" text-anchor=\"middle\">compound</textPath>\n",
       "    </text>\n",
       "    <path class=\"displacy-arrowhead\" d=\"M770,529.0 L762,517.0 778,517.0\" fill=\"currentColor\"/>\n",
       "</g>\n",
       "\n",
       "<g class=\"displacy-arrow\">\n",
       "    <path class=\"displacy-arc\" id=\"arrow-46c430f119c94810ab8bd2c9ae20e47a-0-4\" stroke-width=\"2px\" d=\"M245,527.0 C245,264.5 910.0,264.5 910.0,527.0\" fill=\"none\" stroke=\"currentColor\"/>\n",
       "    <text dy=\"1.25em\" style=\"font-size: 0.8em; letter-spacing: 1px\">\n",
       "        <textPath xlink:href=\"#arrow-46c430f119c94810ab8bd2c9ae20e47a-0-4\" class=\"displacy-label\" startOffset=\"50%\" side=\"left\" fill=\"currentColor\" text-anchor=\"middle\">attr</textPath>\n",
       "    </text>\n",
       "    <path class=\"displacy-arrowhead\" d=\"M910.0,529.0 L918.0,517.0 902.0,517.0\" fill=\"currentColor\"/>\n",
       "</g>\n",
       "\n",
       "<g class=\"displacy-arrow\">\n",
       "    <path class=\"displacy-arc\" id=\"arrow-46c430f119c94810ab8bd2c9ae20e47a-0-5\" stroke-width=\"2px\" d=\"M945,527.0 C945,439.5 1075.0,439.5 1075.0,527.0\" fill=\"none\" stroke=\"currentColor\"/>\n",
       "    <text dy=\"1.25em\" style=\"font-size: 0.8em; letter-spacing: 1px\">\n",
       "        <textPath xlink:href=\"#arrow-46c430f119c94810ab8bd2c9ae20e47a-0-5\" class=\"displacy-label\" startOffset=\"50%\" side=\"left\" fill=\"currentColor\" text-anchor=\"middle\">prep</textPath>\n",
       "    </text>\n",
       "    <path class=\"displacy-arrowhead\" d=\"M1075.0,529.0 L1083.0,517.0 1067.0,517.0\" fill=\"currentColor\"/>\n",
       "</g>\n",
       "\n",
       "<g class=\"displacy-arrow\">\n",
       "    <path class=\"displacy-arc\" id=\"arrow-46c430f119c94810ab8bd2c9ae20e47a-0-6\" stroke-width=\"2px\" d=\"M1120,527.0 C1120,439.5 1250.0,439.5 1250.0,527.0\" fill=\"none\" stroke=\"currentColor\"/>\n",
       "    <text dy=\"1.25em\" style=\"font-size: 0.8em; letter-spacing: 1px\">\n",
       "        <textPath xlink:href=\"#arrow-46c430f119c94810ab8bd2c9ae20e47a-0-6\" class=\"displacy-label\" startOffset=\"50%\" side=\"left\" fill=\"currentColor\" text-anchor=\"middle\">pobj</textPath>\n",
       "    </text>\n",
       "    <path class=\"displacy-arrowhead\" d=\"M1250.0,529.0 L1258.0,517.0 1242.0,517.0\" fill=\"currentColor\"/>\n",
       "</g>\n",
       "\n",
       "<g class=\"displacy-arrow\">\n",
       "    <path class=\"displacy-arc\" id=\"arrow-46c430f119c94810ab8bd2c9ae20e47a-0-7\" stroke-width=\"2px\" d=\"M1470,527.0 C1470,439.5 1600.0,439.5 1600.0,527.0\" fill=\"none\" stroke=\"currentColor\"/>\n",
       "    <text dy=\"1.25em\" style=\"font-size: 0.8em; letter-spacing: 1px\">\n",
       "        <textPath xlink:href=\"#arrow-46c430f119c94810ab8bd2c9ae20e47a-0-7\" class=\"displacy-label\" startOffset=\"50%\" side=\"left\" fill=\"currentColor\" text-anchor=\"middle\">advmod</textPath>\n",
       "    </text>\n",
       "    <path class=\"displacy-arrowhead\" d=\"M1470,529.0 L1462,517.0 1478,517.0\" fill=\"currentColor\"/>\n",
       "</g>\n",
       "\n",
       "<g class=\"displacy-arrow\">\n",
       "    <path class=\"displacy-arc\" id=\"arrow-46c430f119c94810ab8bd2c9ae20e47a-0-8\" stroke-width=\"2px\" d=\"M945,527.0 C945,352.0 1605.0,352.0 1605.0,527.0\" fill=\"none\" stroke=\"currentColor\"/>\n",
       "    <text dy=\"1.25em\" style=\"font-size: 0.8em; letter-spacing: 1px\">\n",
       "        <textPath xlink:href=\"#arrow-46c430f119c94810ab8bd2c9ae20e47a-0-8\" class=\"displacy-label\" startOffset=\"50%\" side=\"left\" fill=\"currentColor\" text-anchor=\"middle\">acl</textPath>\n",
       "    </text>\n",
       "    <path class=\"displacy-arrowhead\" d=\"M1605.0,529.0 L1613.0,517.0 1597.0,517.0\" fill=\"currentColor\"/>\n",
       "</g>\n",
       "\n",
       "<g class=\"displacy-arrow\">\n",
       "    <path class=\"displacy-arc\" id=\"arrow-46c430f119c94810ab8bd2c9ae20e47a-0-9\" stroke-width=\"2px\" d=\"M1645,527.0 C1645,439.5 1775.0,439.5 1775.0,527.0\" fill=\"none\" stroke=\"currentColor\"/>\n",
       "    <text dy=\"1.25em\" style=\"font-size: 0.8em; letter-spacing: 1px\">\n",
       "        <textPath xlink:href=\"#arrow-46c430f119c94810ab8bd2c9ae20e47a-0-9\" class=\"displacy-label\" startOffset=\"50%\" side=\"left\" fill=\"currentColor\" text-anchor=\"middle\">prep</textPath>\n",
       "    </text>\n",
       "    <path class=\"displacy-arrowhead\" d=\"M1775.0,529.0 L1783.0,517.0 1767.0,517.0\" fill=\"currentColor\"/>\n",
       "</g>\n",
       "\n",
       "<g class=\"displacy-arrow\">\n",
       "    <path class=\"displacy-arc\" id=\"arrow-46c430f119c94810ab8bd2c9ae20e47a-0-10\" stroke-width=\"2px\" d=\"M1820,527.0 C1820,439.5 1950.0,439.5 1950.0,527.0\" fill=\"none\" stroke=\"currentColor\"/>\n",
       "    <text dy=\"1.25em\" style=\"font-size: 0.8em; letter-spacing: 1px\">\n",
       "        <textPath xlink:href=\"#arrow-46c430f119c94810ab8bd2c9ae20e47a-0-10\" class=\"displacy-label\" startOffset=\"50%\" side=\"left\" fill=\"currentColor\" text-anchor=\"middle\">pobj</textPath>\n",
       "    </text>\n",
       "    <path class=\"displacy-arrowhead\" d=\"M1950.0,529.0 L1958.0,517.0 1942.0,517.0\" fill=\"currentColor\"/>\n",
       "</g>\n",
       "\n",
       "<g class=\"displacy-arrow\">\n",
       "    <path class=\"displacy-arc\" id=\"arrow-46c430f119c94810ab8bd2c9ae20e47a-0-11\" stroke-width=\"2px\" d=\"M1995,527.0 C1995,439.5 2125.0,439.5 2125.0,527.0\" fill=\"none\" stroke=\"currentColor\"/>\n",
       "    <text dy=\"1.25em\" style=\"font-size: 0.8em; letter-spacing: 1px\">\n",
       "        <textPath xlink:href=\"#arrow-46c430f119c94810ab8bd2c9ae20e47a-0-11\" class=\"displacy-label\" startOffset=\"50%\" side=\"left\" fill=\"currentColor\" text-anchor=\"middle\">cc</textPath>\n",
       "    </text>\n",
       "    <path class=\"displacy-arrowhead\" d=\"M2125.0,529.0 L2133.0,517.0 2117.0,517.0\" fill=\"currentColor\"/>\n",
       "</g>\n",
       "\n",
       "<g class=\"displacy-arrow\">\n",
       "    <path class=\"displacy-arc\" id=\"arrow-46c430f119c94810ab8bd2c9ae20e47a-0-12\" stroke-width=\"2px\" d=\"M1995,527.0 C1995,352.0 2305.0,352.0 2305.0,527.0\" fill=\"none\" stroke=\"currentColor\"/>\n",
       "    <text dy=\"1.25em\" style=\"font-size: 0.8em; letter-spacing: 1px\">\n",
       "        <textPath xlink:href=\"#arrow-46c430f119c94810ab8bd2c9ae20e47a-0-12\" class=\"displacy-label\" startOffset=\"50%\" side=\"left\" fill=\"currentColor\" text-anchor=\"middle\">conj</textPath>\n",
       "    </text>\n",
       "    <path class=\"displacy-arrowhead\" d=\"M2305.0,529.0 L2313.0,517.0 2297.0,517.0\" fill=\"currentColor\"/>\n",
       "</g>\n",
       "\n",
       "<g class=\"displacy-arrow\">\n",
       "    <path class=\"displacy-arc\" id=\"arrow-46c430f119c94810ab8bd2c9ae20e47a-0-13\" stroke-width=\"2px\" d=\"M2345,527.0 C2345,439.5 2475.0,439.5 2475.0,527.0\" fill=\"none\" stroke=\"currentColor\"/>\n",
       "    <text dy=\"1.25em\" style=\"font-size: 0.8em; letter-spacing: 1px\">\n",
       "        <textPath xlink:href=\"#arrow-46c430f119c94810ab8bd2c9ae20e47a-0-13\" class=\"displacy-label\" startOffset=\"50%\" side=\"left\" fill=\"currentColor\" text-anchor=\"middle\">dep</textPath>\n",
       "    </text>\n",
       "    <path class=\"displacy-arrowhead\" d=\"M2475.0,529.0 L2483.0,517.0 2467.0,517.0\" fill=\"currentColor\"/>\n",
       "</g>\n",
       "\n",
       "<g class=\"displacy-arrow\">\n",
       "    <path class=\"displacy-arc\" id=\"arrow-46c430f119c94810ab8bd2c9ae20e47a-0-14\" stroke-width=\"2px\" d=\"M2695,527.0 C2695,439.5 2825.0,439.5 2825.0,527.0\" fill=\"none\" stroke=\"currentColor\"/>\n",
       "    <text dy=\"1.25em\" style=\"font-size: 0.8em; letter-spacing: 1px\">\n",
       "        <textPath xlink:href=\"#arrow-46c430f119c94810ab8bd2c9ae20e47a-0-14\" class=\"displacy-label\" startOffset=\"50%\" side=\"left\" fill=\"currentColor\" text-anchor=\"middle\">nsubj</textPath>\n",
       "    </text>\n",
       "    <path class=\"displacy-arrowhead\" d=\"M2695,529.0 L2687,517.0 2703,517.0\" fill=\"currentColor\"/>\n",
       "</g>\n",
       "\n",
       "<g class=\"displacy-arrow\">\n",
       "    <path class=\"displacy-arc\" id=\"arrow-46c430f119c94810ab8bd2c9ae20e47a-0-15\" stroke-width=\"2px\" d=\"M2345,527.0 C2345,352.0 2830.0,352.0 2830.0,527.0\" fill=\"none\" stroke=\"currentColor\"/>\n",
       "    <text dy=\"1.25em\" style=\"font-size: 0.8em; letter-spacing: 1px\">\n",
       "        <textPath xlink:href=\"#arrow-46c430f119c94810ab8bd2c9ae20e47a-0-15\" class=\"displacy-label\" startOffset=\"50%\" side=\"left\" fill=\"currentColor\" text-anchor=\"middle\">relcl</textPath>\n",
       "    </text>\n",
       "    <path class=\"displacy-arrowhead\" d=\"M2830.0,529.0 L2838.0,517.0 2822.0,517.0\" fill=\"currentColor\"/>\n",
       "</g>\n",
       "\n",
       "<g class=\"displacy-arrow\">\n",
       "    <path class=\"displacy-arc\" id=\"arrow-46c430f119c94810ab8bd2c9ae20e47a-0-16\" stroke-width=\"2px\" d=\"M3045,527.0 C3045,264.5 3535.0,264.5 3535.0,527.0\" fill=\"none\" stroke=\"currentColor\"/>\n",
       "    <text dy=\"1.25em\" style=\"font-size: 0.8em; letter-spacing: 1px\">\n",
       "        <textPath xlink:href=\"#arrow-46c430f119c94810ab8bd2c9ae20e47a-0-16\" class=\"displacy-label\" startOffset=\"50%\" side=\"left\" fill=\"currentColor\" text-anchor=\"middle\">amod</textPath>\n",
       "    </text>\n",
       "    <path class=\"displacy-arrowhead\" d=\"M3045,529.0 L3037,517.0 3053,517.0\" fill=\"currentColor\"/>\n",
       "</g>\n",
       "\n",
       "<g class=\"displacy-arrow\">\n",
       "    <path class=\"displacy-arc\" id=\"arrow-46c430f119c94810ab8bd2c9ae20e47a-0-17\" stroke-width=\"2px\" d=\"M3220,527.0 C3220,352.0 3530.0,352.0 3530.0,527.0\" fill=\"none\" stroke=\"currentColor\"/>\n",
       "    <text dy=\"1.25em\" style=\"font-size: 0.8em; letter-spacing: 1px\">\n",
       "        <textPath xlink:href=\"#arrow-46c430f119c94810ab8bd2c9ae20e47a-0-17\" class=\"displacy-label\" startOffset=\"50%\" side=\"left\" fill=\"currentColor\" text-anchor=\"middle\">amod</textPath>\n",
       "    </text>\n",
       "    <path class=\"displacy-arrowhead\" d=\"M3220,529.0 L3212,517.0 3228,517.0\" fill=\"currentColor\"/>\n",
       "</g>\n",
       "\n",
       "<g class=\"displacy-arrow\">\n",
       "    <path class=\"displacy-arc\" id=\"arrow-46c430f119c94810ab8bd2c9ae20e47a-0-18\" stroke-width=\"2px\" d=\"M3395,527.0 C3395,439.5 3525.0,439.5 3525.0,527.0\" fill=\"none\" stroke=\"currentColor\"/>\n",
       "    <text dy=\"1.25em\" style=\"font-size: 0.8em; letter-spacing: 1px\">\n",
       "        <textPath xlink:href=\"#arrow-46c430f119c94810ab8bd2c9ae20e47a-0-18\" class=\"displacy-label\" startOffset=\"50%\" side=\"left\" fill=\"currentColor\" text-anchor=\"middle\">compound</textPath>\n",
       "    </text>\n",
       "    <path class=\"displacy-arrowhead\" d=\"M3395,529.0 L3387,517.0 3403,517.0\" fill=\"currentColor\"/>\n",
       "</g>\n",
       "\n",
       "<g class=\"displacy-arrow\">\n",
       "    <path class=\"displacy-arc\" id=\"arrow-46c430f119c94810ab8bd2c9ae20e47a-0-19\" stroke-width=\"2px\" d=\"M2870,527.0 C2870,177.0 3540.0,177.0 3540.0,527.0\" fill=\"none\" stroke=\"currentColor\"/>\n",
       "    <text dy=\"1.25em\" style=\"font-size: 0.8em; letter-spacing: 1px\">\n",
       "        <textPath xlink:href=\"#arrow-46c430f119c94810ab8bd2c9ae20e47a-0-19\" class=\"displacy-label\" startOffset=\"50%\" side=\"left\" fill=\"currentColor\" text-anchor=\"middle\">dobj</textPath>\n",
       "    </text>\n",
       "    <path class=\"displacy-arrowhead\" d=\"M3540.0,529.0 L3548.0,517.0 3532.0,517.0\" fill=\"currentColor\"/>\n",
       "</g>\n",
       "\n",
       "<g class=\"displacy-arrow\">\n",
       "    <path class=\"displacy-arc\" id=\"arrow-46c430f119c94810ab8bd2c9ae20e47a-0-20\" stroke-width=\"2px\" d=\"M3570,527.0 C3570,439.5 3700.0,439.5 3700.0,527.0\" fill=\"none\" stroke=\"currentColor\"/>\n",
       "    <text dy=\"1.25em\" style=\"font-size: 0.8em; letter-spacing: 1px\">\n",
       "        <textPath xlink:href=\"#arrow-46c430f119c94810ab8bd2c9ae20e47a-0-20\" class=\"displacy-label\" startOffset=\"50%\" side=\"left\" fill=\"currentColor\" text-anchor=\"middle\">advmod</textPath>\n",
       "    </text>\n",
       "    <path class=\"displacy-arrowhead\" d=\"M3700.0,529.0 L3708.0,517.0 3692.0,517.0\" fill=\"currentColor\"/>\n",
       "</g>\n",
       "\n",
       "<g class=\"displacy-arrow\">\n",
       "    <path class=\"displacy-arc\" id=\"arrow-46c430f119c94810ab8bd2c9ae20e47a-0-21\" stroke-width=\"2px\" d=\"M3920,527.0 C3920,264.5 4410.0,264.5 4410.0,527.0\" fill=\"none\" stroke=\"currentColor\"/>\n",
       "    <text dy=\"1.25em\" style=\"font-size: 0.8em; letter-spacing: 1px\">\n",
       "        <textPath xlink:href=\"#arrow-46c430f119c94810ab8bd2c9ae20e47a-0-21\" class=\"displacy-label\" startOffset=\"50%\" side=\"left\" fill=\"currentColor\" text-anchor=\"middle\">compound</textPath>\n",
       "    </text>\n",
       "    <path class=\"displacy-arrowhead\" d=\"M3920,529.0 L3912,517.0 3928,517.0\" fill=\"currentColor\"/>\n",
       "</g>\n",
       "\n",
       "<g class=\"displacy-arrow\">\n",
       "    <path class=\"displacy-arc\" id=\"arrow-46c430f119c94810ab8bd2c9ae20e47a-0-22\" stroke-width=\"2px\" d=\"M4095,527.0 C4095,352.0 4405.0,352.0 4405.0,527.0\" fill=\"none\" stroke=\"currentColor\"/>\n",
       "    <text dy=\"1.25em\" style=\"font-size: 0.8em; letter-spacing: 1px\">\n",
       "        <textPath xlink:href=\"#arrow-46c430f119c94810ab8bd2c9ae20e47a-0-22\" class=\"displacy-label\" startOffset=\"50%\" side=\"left\" fill=\"currentColor\" text-anchor=\"middle\">compound</textPath>\n",
       "    </text>\n",
       "    <path class=\"displacy-arrowhead\" d=\"M4095,529.0 L4087,517.0 4103,517.0\" fill=\"currentColor\"/>\n",
       "</g>\n",
       "\n",
       "<g class=\"displacy-arrow\">\n",
       "    <path class=\"displacy-arc\" id=\"arrow-46c430f119c94810ab8bd2c9ae20e47a-0-23\" stroke-width=\"2px\" d=\"M4095,527.0 C4095,439.5 4225.0,439.5 4225.0,527.0\" fill=\"none\" stroke=\"currentColor\"/>\n",
       "    <text dy=\"1.25em\" style=\"font-size: 0.8em; letter-spacing: 1px\">\n",
       "        <textPath xlink:href=\"#arrow-46c430f119c94810ab8bd2c9ae20e47a-0-23\" class=\"displacy-label\" startOffset=\"50%\" side=\"left\" fill=\"currentColor\" text-anchor=\"middle\">dep</textPath>\n",
       "    </text>\n",
       "    <path class=\"displacy-arrowhead\" d=\"M4225.0,529.0 L4233.0,517.0 4217.0,517.0\" fill=\"currentColor\"/>\n",
       "</g>\n",
       "\n",
       "<g class=\"displacy-arrow\">\n",
       "    <path class=\"displacy-arc\" id=\"arrow-46c430f119c94810ab8bd2c9ae20e47a-0-24\" stroke-width=\"2px\" d=\"M3570,527.0 C3570,177.0 4415.0,177.0 4415.0,527.0\" fill=\"none\" stroke=\"currentColor\"/>\n",
       "    <text dy=\"1.25em\" style=\"font-size: 0.8em; letter-spacing: 1px\">\n",
       "        <textPath xlink:href=\"#arrow-46c430f119c94810ab8bd2c9ae20e47a-0-24\" class=\"displacy-label\" startOffset=\"50%\" side=\"left\" fill=\"currentColor\" text-anchor=\"middle\">conj</textPath>\n",
       "    </text>\n",
       "    <path class=\"displacy-arrowhead\" d=\"M4415.0,529.0 L4423.0,517.0 4407.0,517.0\" fill=\"currentColor\"/>\n",
       "</g>\n",
       "\n",
       "<g class=\"displacy-arrow\">\n",
       "    <path class=\"displacy-arc\" id=\"arrow-46c430f119c94810ab8bd2c9ae20e47a-0-25\" stroke-width=\"2px\" d=\"M4445,527.0 C4445,439.5 4575.0,439.5 4575.0,527.0\" fill=\"none\" stroke=\"currentColor\"/>\n",
       "    <text dy=\"1.25em\" style=\"font-size: 0.8em; letter-spacing: 1px\">\n",
       "        <textPath xlink:href=\"#arrow-46c430f119c94810ab8bd2c9ae20e47a-0-25\" class=\"displacy-label\" startOffset=\"50%\" side=\"left\" fill=\"currentColor\" text-anchor=\"middle\">appos</textPath>\n",
       "    </text>\n",
       "    <path class=\"displacy-arrowhead\" d=\"M4575.0,529.0 L4583.0,517.0 4567.0,517.0\" fill=\"currentColor\"/>\n",
       "</g>\n",
       "\n",
       "<g class=\"displacy-arrow\">\n",
       "    <path class=\"displacy-arc\" id=\"arrow-46c430f119c94810ab8bd2c9ae20e47a-0-26\" stroke-width=\"2px\" d=\"M4795,527.0 C4795,439.5 4925.0,439.5 4925.0,527.0\" fill=\"none\" stroke=\"currentColor\"/>\n",
       "    <text dy=\"1.25em\" style=\"font-size: 0.8em; letter-spacing: 1px\">\n",
       "        <textPath xlink:href=\"#arrow-46c430f119c94810ab8bd2c9ae20e47a-0-26\" class=\"displacy-label\" startOffset=\"50%\" side=\"left\" fill=\"currentColor\" text-anchor=\"middle\">aux</textPath>\n",
       "    </text>\n",
       "    <path class=\"displacy-arrowhead\" d=\"M4795,529.0 L4787,517.0 4803,517.0\" fill=\"currentColor\"/>\n",
       "</g>\n",
       "\n",
       "<g class=\"displacy-arrow\">\n",
       "    <path class=\"displacy-arc\" id=\"arrow-46c430f119c94810ab8bd2c9ae20e47a-0-27\" stroke-width=\"2px\" d=\"M2870,527.0 C2870,89.5 4945.0,89.5 4945.0,527.0\" fill=\"none\" stroke=\"currentColor\"/>\n",
       "    <text dy=\"1.25em\" style=\"font-size: 0.8em; letter-spacing: 1px\">\n",
       "        <textPath xlink:href=\"#arrow-46c430f119c94810ab8bd2c9ae20e47a-0-27\" class=\"displacy-label\" startOffset=\"50%\" side=\"left\" fill=\"currentColor\" text-anchor=\"middle\">xcomp</textPath>\n",
       "    </text>\n",
       "    <path class=\"displacy-arrowhead\" d=\"M4945.0,529.0 L4953.0,517.0 4937.0,517.0\" fill=\"currentColor\"/>\n",
       "</g>\n",
       "\n",
       "<g class=\"displacy-arrow\">\n",
       "    <path class=\"displacy-arc\" id=\"arrow-46c430f119c94810ab8bd2c9ae20e47a-0-28\" stroke-width=\"2px\" d=\"M5145,527.0 C5145,439.5 5275.0,439.5 5275.0,527.0\" fill=\"none\" stroke=\"currentColor\"/>\n",
       "    <text dy=\"1.25em\" style=\"font-size: 0.8em; letter-spacing: 1px\">\n",
       "        <textPath xlink:href=\"#arrow-46c430f119c94810ab8bd2c9ae20e47a-0-28\" class=\"displacy-label\" startOffset=\"50%\" side=\"left\" fill=\"currentColor\" text-anchor=\"middle\">npadvmod</textPath>\n",
       "    </text>\n",
       "    <path class=\"displacy-arrowhead\" d=\"M5145,529.0 L5137,517.0 5153,517.0\" fill=\"currentColor\"/>\n",
       "</g>\n",
       "\n",
       "<g class=\"displacy-arrow\">\n",
       "    <path class=\"displacy-arc\" id=\"arrow-46c430f119c94810ab8bd2c9ae20e47a-0-29\" stroke-width=\"2px\" d=\"M5320,527.0 C5320,439.5 5450.0,439.5 5450.0,527.0\" fill=\"none\" stroke=\"currentColor\"/>\n",
       "    <text dy=\"1.25em\" style=\"font-size: 0.8em; letter-spacing: 1px\">\n",
       "        <textPath xlink:href=\"#arrow-46c430f119c94810ab8bd2c9ae20e47a-0-29\" class=\"displacy-label\" startOffset=\"50%\" side=\"left\" fill=\"currentColor\" text-anchor=\"middle\">amod</textPath>\n",
       "    </text>\n",
       "    <path class=\"displacy-arrowhead\" d=\"M5320,529.0 L5312,517.0 5328,517.0\" fill=\"currentColor\"/>\n",
       "</g>\n",
       "\n",
       "<g class=\"displacy-arrow\">\n",
       "    <path class=\"displacy-arc\" id=\"arrow-46c430f119c94810ab8bd2c9ae20e47a-0-30\" stroke-width=\"2px\" d=\"M4970,527.0 C4970,352.0 5455.0,352.0 5455.0,527.0\" fill=\"none\" stroke=\"currentColor\"/>\n",
       "    <text dy=\"1.25em\" style=\"font-size: 0.8em; letter-spacing: 1px\">\n",
       "        <textPath xlink:href=\"#arrow-46c430f119c94810ab8bd2c9ae20e47a-0-30\" class=\"displacy-label\" startOffset=\"50%\" side=\"left\" fill=\"currentColor\" text-anchor=\"middle\">dobj</textPath>\n",
       "    </text>\n",
       "    <path class=\"displacy-arrowhead\" d=\"M5455.0,529.0 L5463.0,517.0 5447.0,517.0\" fill=\"currentColor\"/>\n",
       "</g>\n",
       "\n",
       "<g class=\"displacy-arrow\">\n",
       "    <path class=\"displacy-arc\" id=\"arrow-46c430f119c94810ab8bd2c9ae20e47a-0-31\" stroke-width=\"2px\" d=\"M4970,527.0 C4970,264.5 5635.0,264.5 5635.0,527.0\" fill=\"none\" stroke=\"currentColor\"/>\n",
       "    <text dy=\"1.25em\" style=\"font-size: 0.8em; letter-spacing: 1px\">\n",
       "        <textPath xlink:href=\"#arrow-46c430f119c94810ab8bd2c9ae20e47a-0-31\" class=\"displacy-label\" startOffset=\"50%\" side=\"left\" fill=\"currentColor\" text-anchor=\"middle\">prep</textPath>\n",
       "    </text>\n",
       "    <path class=\"displacy-arrowhead\" d=\"M5635.0,529.0 L5643.0,517.0 5627.0,517.0\" fill=\"currentColor\"/>\n",
       "</g>\n",
       "\n",
       "<g class=\"displacy-arrow\">\n",
       "    <path class=\"displacy-arc\" id=\"arrow-46c430f119c94810ab8bd2c9ae20e47a-0-32\" stroke-width=\"2px\" d=\"M5845,527.0 C5845,439.5 5975.0,439.5 5975.0,527.0\" fill=\"none\" stroke=\"currentColor\"/>\n",
       "    <text dy=\"1.25em\" style=\"font-size: 0.8em; letter-spacing: 1px\">\n",
       "        <textPath xlink:href=\"#arrow-46c430f119c94810ab8bd2c9ae20e47a-0-32\" class=\"displacy-label\" startOffset=\"50%\" side=\"left\" fill=\"currentColor\" text-anchor=\"middle\">amod</textPath>\n",
       "    </text>\n",
       "    <path class=\"displacy-arrowhead\" d=\"M5845,529.0 L5837,517.0 5853,517.0\" fill=\"currentColor\"/>\n",
       "</g>\n",
       "\n",
       "<g class=\"displacy-arrow\">\n",
       "    <path class=\"displacy-arc\" id=\"arrow-46c430f119c94810ab8bd2c9ae20e47a-0-33\" stroke-width=\"2px\" d=\"M5670,527.0 C5670,352.0 5980.0,352.0 5980.0,527.0\" fill=\"none\" stroke=\"currentColor\"/>\n",
       "    <text dy=\"1.25em\" style=\"font-size: 0.8em; letter-spacing: 1px\">\n",
       "        <textPath xlink:href=\"#arrow-46c430f119c94810ab8bd2c9ae20e47a-0-33\" class=\"displacy-label\" startOffset=\"50%\" side=\"left\" fill=\"currentColor\" text-anchor=\"middle\">pobj</textPath>\n",
       "    </text>\n",
       "    <path class=\"displacy-arrowhead\" d=\"M5980.0,529.0 L5988.0,517.0 5972.0,517.0\" fill=\"currentColor\"/>\n",
       "</g>\n",
       "\n",
       "<g class=\"displacy-arrow\">\n",
       "    <path class=\"displacy-arc\" id=\"arrow-46c430f119c94810ab8bd2c9ae20e47a-0-34\" stroke-width=\"2px\" d=\"M6195,527.0 C6195,352.0 6505.0,352.0 6505.0,527.0\" fill=\"none\" stroke=\"currentColor\"/>\n",
       "    <text dy=\"1.25em\" style=\"font-size: 0.8em; letter-spacing: 1px\">\n",
       "        <textPath xlink:href=\"#arrow-46c430f119c94810ab8bd2c9ae20e47a-0-34\" class=\"displacy-label\" startOffset=\"50%\" side=\"left\" fill=\"currentColor\" text-anchor=\"middle\">aux</textPath>\n",
       "    </text>\n",
       "    <path class=\"displacy-arrowhead\" d=\"M6195,529.0 L6187,517.0 6203,517.0\" fill=\"currentColor\"/>\n",
       "</g>\n",
       "\n",
       "<g class=\"displacy-arrow\">\n",
       "    <path class=\"displacy-arc\" id=\"arrow-46c430f119c94810ab8bd2c9ae20e47a-0-35\" stroke-width=\"2px\" d=\"M6195,527.0 C6195,439.5 6325.0,439.5 6325.0,527.0\" fill=\"none\" stroke=\"currentColor\"/>\n",
       "    <text dy=\"1.25em\" style=\"font-size: 0.8em; letter-spacing: 1px\">\n",
       "        <textPath xlink:href=\"#arrow-46c430f119c94810ab8bd2c9ae20e47a-0-35\" class=\"displacy-label\" startOffset=\"50%\" side=\"left\" fill=\"currentColor\" text-anchor=\"middle\">dep</textPath>\n",
       "    </text>\n",
       "    <path class=\"displacy-arrowhead\" d=\"M6325.0,529.0 L6333.0,517.0 6317.0,517.0\" fill=\"currentColor\"/>\n",
       "</g>\n",
       "\n",
       "<g class=\"displacy-arrow\">\n",
       "    <path class=\"displacy-arc\" id=\"arrow-46c430f119c94810ab8bd2c9ae20e47a-0-36\" stroke-width=\"2px\" d=\"M245,527.0 C245,2.0 6525.0,2.0 6525.0,527.0\" fill=\"none\" stroke=\"currentColor\"/>\n",
       "    <text dy=\"1.25em\" style=\"font-size: 0.8em; letter-spacing: 1px\">\n",
       "        <textPath xlink:href=\"#arrow-46c430f119c94810ab8bd2c9ae20e47a-0-36\" class=\"displacy-label\" startOffset=\"50%\" side=\"left\" fill=\"currentColor\" text-anchor=\"middle\">advcl</textPath>\n",
       "    </text>\n",
       "    <path class=\"displacy-arrowhead\" d=\"M6525.0,529.0 L6533.0,517.0 6517.0,517.0\" fill=\"currentColor\"/>\n",
       "</g>\n",
       "\n",
       "<g class=\"displacy-arrow\">\n",
       "    <path class=\"displacy-arc\" id=\"arrow-46c430f119c94810ab8bd2c9ae20e47a-0-37\" stroke-width=\"2px\" d=\"M6545,527.0 C6545,439.5 6675.0,439.5 6675.0,527.0\" fill=\"none\" stroke=\"currentColor\"/>\n",
       "    <text dy=\"1.25em\" style=\"font-size: 0.8em; letter-spacing: 1px\">\n",
       "        <textPath xlink:href=\"#arrow-46c430f119c94810ab8bd2c9ae20e47a-0-37\" class=\"displacy-label\" startOffset=\"50%\" side=\"left\" fill=\"currentColor\" text-anchor=\"middle\">dobj</textPath>\n",
       "    </text>\n",
       "    <path class=\"displacy-arrowhead\" d=\"M6675.0,529.0 L6683.0,517.0 6667.0,517.0\" fill=\"currentColor\"/>\n",
       "</g>\n",
       "\n",
       "<g class=\"displacy-arrow\">\n",
       "    <path class=\"displacy-arc\" id=\"arrow-46c430f119c94810ab8bd2c9ae20e47a-0-38\" stroke-width=\"2px\" d=\"M6720,527.0 C6720,439.5 6850.0,439.5 6850.0,527.0\" fill=\"none\" stroke=\"currentColor\"/>\n",
       "    <text dy=\"1.25em\" style=\"font-size: 0.8em; letter-spacing: 1px\">\n",
       "        <textPath xlink:href=\"#arrow-46c430f119c94810ab8bd2c9ae20e47a-0-38\" class=\"displacy-label\" startOffset=\"50%\" side=\"left\" fill=\"currentColor\" text-anchor=\"middle\">prep</textPath>\n",
       "    </text>\n",
       "    <path class=\"displacy-arrowhead\" d=\"M6850.0,529.0 L6858.0,517.0 6842.0,517.0\" fill=\"currentColor\"/>\n",
       "</g>\n",
       "\n",
       "<g class=\"displacy-arrow\">\n",
       "    <path class=\"displacy-arc\" id=\"arrow-46c430f119c94810ab8bd2c9ae20e47a-0-39\" stroke-width=\"2px\" d=\"M6895,527.0 C6895,439.5 7025.0,439.5 7025.0,527.0\" fill=\"none\" stroke=\"currentColor\"/>\n",
       "    <text dy=\"1.25em\" style=\"font-size: 0.8em; letter-spacing: 1px\">\n",
       "        <textPath xlink:href=\"#arrow-46c430f119c94810ab8bd2c9ae20e47a-0-39\" class=\"displacy-label\" startOffset=\"50%\" side=\"left\" fill=\"currentColor\" text-anchor=\"middle\">pobj</textPath>\n",
       "    </text>\n",
       "    <path class=\"displacy-arrowhead\" d=\"M7025.0,529.0 L7033.0,517.0 7017.0,517.0\" fill=\"currentColor\"/>\n",
       "</g>\n",
       "</svg>\n",
       "</figure>\n",
       "</body>\n",
       "</html></span>"
      ],
      "text/plain": [
       "<IPython.core.display.HTML object>"
      ]
     },
     "metadata": {},
     "output_type": "display_data"
    },
    {
     "name": "stdout",
     "output_type": "stream",
     "text": [
      "\n",
      "Using the 'dep' visualizer\n",
      "Serving on http://0.0.0.0:5000 ...\n",
      "\n",
      "Shutting down server on port 5000.\n"
     ]
    }
   ],
   "source": [
    "displacy.serve(about_doc, style=\"dep\")"
   ]
  },
  {
   "cell_type": "markdown",
   "id": "f9a94b3d-21ce-48c5-a408-f759138b31ec",
   "metadata": {},
   "source": [
    "---\n",
    "## Preprocessing Funtions\n",
    "\n",
    "To bring your text into a format ideal for analysis, you can write preprocessing functions to encapsulate your cleaning process. For example, in this section, you’ll create a preprocessor that applies the following operations:\n",
    "\n",
    "- Lowercases the text\n",
    "- Lemmatizes each token\n",
    "- Removes punctuation symbols\n",
    "- Removes stop words"
   ]
  },
  {
   "cell_type": "code",
   "execution_count": 30,
   "id": "392d7da5-581e-4d31-a2e6-c49173ad371b",
   "metadata": {},
   "outputs": [],
   "source": [
    "def is_token_allowed(token):\n",
    "    return bool(\n",
    "        token\n",
    "        and str(token).split()\n",
    "        and not token.is_stop\n",
    "        and not token.is_punct\n",
    "    )\n",
    "    \n",
    "def preprocess_token(token):\n",
    "    return token.lemma_.strip().lower()"
   ]
  },
  {
   "cell_type": "code",
   "execution_count": 32,
   "id": "e393d32b-06e4-45aa-b3e7-a1c5780c9597",
   "metadata": {},
   "outputs": [],
   "source": [
    "complete_filtered_tokens = [\n",
    "    preprocess_token(token)\n",
    "    for token in complete_doc\n",
    "    if is_token_allowed(token)\n",
    "]"
   ]
  },
  {
   "cell_type": "code",
   "execution_count": 34,
   "id": "837e83d7-58ab-41dd-b559-7f858b994602",
   "metadata": {},
   "outputs": [
    {
     "name": "stdout",
     "output_type": "stream",
     "text": [
      "['easy', 'individual', 'investor', 'start', 'trade', 'stock', 'option', 'company', 'like', 'robinhood', 'webull', 'offer', 'zero', 'commission', 'trade', 'account', 'minimum', 'size', 'incentive', 'like', 'free', 'stock', 'user', 'create', 'account', 'recently', 'huge', 'increase', 'growth', 'user', 'type', 'platform', 'combination', 'people', 'work', 'coronavirus', 'government', 'stimulus', 'package', 'appear', 'spark', 'surge', 'new', 'investor', 'spark', 'ton', 'activity', 'popular', 'social', 'medium', 'website', 'like', 'reddit', 'user', 'regularly', 'post', 'stock', 'recommendation', 'trading', 'strategy', 'appear', 'reddit', 'trader', 'group', 'cause', 'irrational', 'stock', 'market', 'move', 'panic', 'buy', 'stock', 'company', 'declare', 'bankruptcy', 'bet', 'warren', 'buffet', 'ignore', 'impact', 'coronavirus', 'airline', 'cruise', 'ship', 'unusual', 'market', 'move', 'lately', 'purpose', 'project', 'identify', 'relationship', 'reddit', 'sentiment', 'stock', 'performance']\n"
     ]
    }
   ],
   "source": [
    "print(complete_filtered_tokens)"
   ]
  },
  {
   "cell_type": "code",
   "execution_count": 35,
   "id": "ac2b662b-61e1-4b6c-bdfa-85b8b0d4d8b6",
   "metadata": {},
   "outputs": [
    {
     "data": {
      "text/plain": [
       "It has never been easier for individual investors to get started trading\n",
       "    stocks or options. Companies like Robinhood and Webull even\n",
       "    offer zero commission trades, no account minimum size, and incentives\n",
       "    like a free stock if a user creates an account. Recently, there\n",
       "    has been a huge increase in the growth of users of these types of platforms.\n",
       "    The combination of many people out of work because of the\n",
       "    coronavirus and the US government stimulus package appears to have\n",
       "    sparked this. This surge in new investors has sparked tons of activity\n",
       "    on popular social media websites like Reddit. There users regularly\n",
       "    post stock recommendations and trading strategies. It appears\n",
       "    that many Reddit traders are grouping together and causing irrational\n",
       "    stock market moves. Panic buying stocks for companies that just declared\n",
       "    bankruptcy, betting against Warren Buffet, and ignoring the\n",
       "    impact of the coronavirus on airlines and cruise ships are a few of the\n",
       "    unusual market moves lately. The purpose of this project is to identify\n",
       "    if there is a relationship between the Reddit sentiment on stocks and\n",
       "    performance."
      ]
     },
     "execution_count": 35,
     "metadata": {},
     "output_type": "execute_result"
    }
   ],
   "source": [
    "complete_doc"
   ]
  }
 ],
 "metadata": {
  "kernelspec": {
   "display_name": "Python 3 (ipykernel)",
   "language": "python",
   "name": "python3"
  },
  "language_info": {
   "codemirror_mode": {
    "name": "ipython",
    "version": 3
   },
   "file_extension": ".py",
   "mimetype": "text/x-python",
   "name": "python",
   "nbconvert_exporter": "python",
   "pygments_lexer": "ipython3",
   "version": "3.10.9"
  }
 },
 "nbformat": 4,
 "nbformat_minor": 5
}
