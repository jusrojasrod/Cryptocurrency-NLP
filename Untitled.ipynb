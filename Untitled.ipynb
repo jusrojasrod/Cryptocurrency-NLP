{
 "cells": [
  {
   "cell_type": "markdown",
   "id": "5cfb97e9-aef4-4f92-82fb-e7dbc9aac6db",
   "metadata": {},
   "source": [
    "# Natural Language Processing With spaCy in Python\n",
    "\n",
    "Notebook for Introduction to NLP and spaCy.\n",
    "\n",
    "Source [Real Python](https://realpython.com/natural-language-processing-spacy-python/#conclusion)\n",
    "\n",
    "---"
   ]
  },
  {
   "cell_type": "markdown",
   "id": "e08eb0f1-bcf5-4dbd-b8df-f84257f013b7",
   "metadata": {},
   "source": [
    "In this tutorial, you’ll learn how to:\n",
    "\n",
    "- Implement NLP in spaCy.\n",
    "- Customize and extend built-in functionalities in spaCy.\n",
    "- Perform basic statistical analysis on a text.\n",
    "- Create a pipeline to process unstructured text.\n",
    "- Parse a sentence and extract meaningful insights from it."
   ]
  },
  {
   "cell_type": "code",
   "execution_count": 1,
   "id": "1357b789-4df6-46fd-bc38-3f9b7a8cf517",
   "metadata": {},
   "outputs": [],
   "source": [
    "import spacy\n",
    "nlp = spacy.load(\"en_core_web_sm\")      # model for English language"
   ]
  },
  {
   "cell_type": "code",
   "execution_count": 2,
   "id": "cdb437b6-f2f4-470a-85a5-4ef12d011454",
   "metadata": {},
   "outputs": [
    {
     "data": {
      "text/plain": [
       "<spacy.lang.en.English at 0x151e674ba00>"
      ]
     },
     "execution_count": 2,
     "metadata": {},
     "output_type": "execute_result"
    }
   ],
   "source": [
    "nlp"
   ]
  },
  {
   "cell_type": "code",
   "execution_count": 3,
   "id": "1226c2ff-6f64-4776-b1b3-9b76dbe80a37",
   "metadata": {},
   "outputs": [
    {
     "data": {
      "text/plain": [
       "spacy.tokens.doc.Doc"
      ]
     },
     "execution_count": 3,
     "metadata": {},
     "output_type": "execute_result"
    }
   ],
   "source": [
    "introduction_doc = nlp(\n",
    "    \"\"\"spaCy is an open-source library for NLP, mostly used in Python and Cython\n",
    "    which provides pre-trained Neural Networks, specifically, Convolutional Neural\n",
    "    Networks (CNNs) to perform NLP related taks in several languages (will\n",
    "    provide images with examples).\"\"\"\n",
    ")\n",
    "type(introduction_doc)"
   ]
  },
  {
   "cell_type": "code",
   "execution_count": 4,
   "id": "38352fc9-cbb5-4c93-b11e-3308a4c9303d",
   "metadata": {},
   "outputs": [
    {
     "name": "stdout",
     "output_type": "stream",
     "text": [
      "['spaCy', 'is', 'an', 'open', '-', 'source', 'library', 'for', 'NLP', ',', 'mostly', 'used', 'in', 'Python', 'and', 'Cython', '\\n    ', 'which', 'provides', 'pre', '-', 'trained', 'Neural', 'Networks', ',', 'specifically', ',', 'Convolutional', 'Neural', '\\n    ', 'Networks', '(', 'CNNs', ')', 'to', 'perform', 'NLP', 'related', 'taks', 'in', 'several', 'languages', '(', 'will', '\\n    ', 'provide', 'images', 'with', 'examples', ')', '.']\n"
     ]
    }
   ],
   "source": [
    "print([token.text for token in introduction_doc])"
   ]
  },
  {
   "cell_type": "code",
   "execution_count": 5,
   "id": "808994e6-7381-49bb-ad1b-302362c927da",
   "metadata": {},
   "outputs": [],
   "source": [
    "import pathlib"
   ]
  },
  {
   "cell_type": "code",
   "execution_count": 6,
   "id": "00ad8de5-09e2-49a8-9cc7-291cf610f228",
   "metadata": {},
   "outputs": [
    {
     "name": "stdout",
     "output_type": "stream",
     "text": [
      "['\"', '\"', '\"', 'spaCy', 'is', 'an', 'open', '-', 'source', 'library', 'for', 'NLP', ',', 'mostly', 'used', 'in', 'Python', 'and', 'Cython', '\\n    ', 'which', 'provides', 'pre', '-', 'trained', 'Neural', 'Networks', ',', 'specifically', ',', 'Convolutional', 'Neural', '\\n    ', 'Networks', '(', 'CNNs', ')', 'to', 'perform', 'NLP', 'related', 'taks', 'in', 'several', 'languages', '(', 'will', '\\n    ', 'provide', 'images', 'with', 'examples', ')', '.', '\"', '\"', '\"']\n"
     ]
    }
   ],
   "source": [
    "# file_name = \"C:\\\\Users\\\\Usuario\\\\Documents\\\\Cryptocurrency-NLP-main\\\\introduction.txt\"\n",
    "file_name = \"introduction.txt\"\n",
    "introduction_doc = nlp(pathlib.Path(file_name).read_text(encoding=\"utf-8\"))\n",
    "print ([token.text for token in introduction_doc])"
   ]
  },
  {
   "cell_type": "markdown",
   "id": "37a16be1-2618-461c-9aa5-3e94fddfcdff",
   "metadata": {},
   "source": [
    "## Sentence Detection"
   ]
  },
  {
   "cell_type": "code",
   "execution_count": 7,
   "id": "c47fd196-1987-4bd2-8eb4-ccdde30c7998",
   "metadata": {},
   "outputs": [
    {
     "data": {
      "text/plain": [
       "2"
      ]
     },
     "execution_count": 7,
     "metadata": {},
     "output_type": "execute_result"
    }
   ],
   "source": [
    "about_text = (\n",
    "    \"Gus Proto is a Python developer currently\"\n",
    "    \" working for a London-based Fintech\"\n",
    "    \" company. He is interested in learning\"\n",
    "    \" Natural Language Processing.\"\n",
    ")\n",
    "about_doc = nlp(about_text)\n",
    "sentences = list(about_doc.sents)\n",
    "len(sentences)"
   ]
  },
  {
   "cell_type": "code",
   "execution_count": 8,
   "id": "525fc468-6d3d-4500-ab7f-ca778b9480fa",
   "metadata": {},
   "outputs": [
    {
     "data": {
      "text/plain": [
       "Gus Proto is a Python developer currently working for a London-based Fintech company."
      ]
     },
     "execution_count": 8,
     "metadata": {},
     "output_type": "execute_result"
    }
   ],
   "source": [
    "sentences[0]"
   ]
  },
  {
   "cell_type": "code",
   "execution_count": 9,
   "id": "b3a095a8-d010-4c97-b587-727a492b814a",
   "metadata": {},
   "outputs": [
    {
     "name": "stdout",
     "output_type": "stream",
     "text": [
      "Gus Proto is a Python developer currently working for a London-based Fintech company.\n",
      "He is interested in learning Natural Language Processing.\n"
     ]
    }
   ],
   "source": [
    "for sentence in sentences:\n",
    "    print(sentence)"
   ]
  },
  {
   "cell_type": "markdown",
   "id": "254c1c3f-8261-499a-92bd-97c82eec404e",
   "metadata": {},
   "source": [
    "## Tokenss in spaCy"
   ]
  },
  {
   "cell_type": "code",
   "execution_count": 10,
   "id": "d14b4089-338e-4a92-816f-2f6daab4b80d",
   "metadata": {},
   "outputs": [],
   "source": [
    "nlp = spacy.load(\"en_core_web_sm\")\n",
    "about_text = (\n",
    "    \"\"\"spaCy is an open-source library for NLP, mostly used in Python and Cython\n",
    "    which provides pre-trained Neural Networks, specifically, Convolutional Neural\n",
    "    Networks (CNNs) to perform NLP related taks in several languages (will\n",
    "    provide images with examples).\"\"\"\n",
    ")\n",
    "about_doc = nlp(about_text)"
   ]
  },
  {
   "cell_type": "code",
   "execution_count": 11,
   "id": "c51e4ced-8dad-41ed-817a-43c5820941bb",
   "metadata": {},
   "outputs": [
    {
     "name": "stdout",
     "output_type": "stream",
     "text": [
      "spaCy 0\n",
      "is 6\n",
      "an 9\n",
      "open 12\n",
      "- 16\n",
      "source 17\n",
      "library 24\n",
      "for 32\n",
      "NLP 36\n",
      ", 39\n",
      "mostly 41\n",
      "used 48\n",
      "in 53\n",
      "Python 56\n",
      "and 63\n",
      "Cython 67\n",
      "\n",
      "     73\n",
      "which 78\n",
      "provides 84\n",
      "pre 93\n",
      "- 96\n",
      "trained 97\n",
      "Neural 105\n",
      "Networks 112\n",
      ", 120\n",
      "specifically 122\n",
      ", 134\n",
      "Convolutional 136\n",
      "Neural 150\n",
      "\n",
      "     156\n",
      "Networks 161\n",
      "( 170\n",
      "CNNs 171\n",
      ") 175\n",
      "to 177\n",
      "perform 180\n",
      "NLP 188\n",
      "related 192\n",
      "taks 200\n",
      "in 205\n",
      "several 208\n",
      "languages 216\n",
      "( 226\n",
      "will 227\n",
      "\n",
      "     231\n",
      "provide 236\n",
      "images 244\n",
      "with 251\n",
      "examples 256\n",
      ") 264\n",
      ". 265\n"
     ]
    }
   ],
   "source": [
    "for token in about_doc:\n",
    "    print(token, token.idx)"
   ]
  },
  {
   "cell_type": "code",
   "execution_count": 28,
   "id": "03f44c03-e6ef-4724-bbab-c90f15e86276",
   "metadata": {},
   "outputs": [
    {
     "name": "stdout",
     "output_type": "stream",
     "text": [
      "Text with whitespace  Is Alphanumeric?  Is Punctuation?   Is Stop Word?\n",
      "spaCy                 True              False             False\n",
      "is                    True              False             True\n",
      "an                    True              False             True\n",
      "open                  True              False             False\n",
      "-                     False             True              False\n",
      "source                True              False             False\n",
      "library               True              False             False\n",
      "for                   True              False             True\n",
      "NLP                   True              False             False\n",
      ",                     False             True              False\n",
      "mostly                True              False             True\n",
      "used                  True              False             True\n",
      "in                    True              False             True\n",
      "Python                True              False             False\n",
      "and                   True              False             True\n",
      "Cython                True              False             False\n",
      "\n",
      "                     False             False             False\n",
      "which                 True              False             True\n",
      "provides              True              False             False\n",
      "pre                   True              False             False\n",
      "-                     False             True              False\n",
      "trained               True              False             False\n",
      "Neural                True              False             False\n",
      "Networks              True              False             False\n",
      ",                     False             True              False\n",
      "specifically          True              False             False\n",
      ",                     False             True              False\n",
      "Convolutional         True              False             False\n",
      "Neural                True              False             False\n",
      "\n",
      "                     False             False             False\n",
      "Networks              True              False             False\n",
      "(                     False             True              False\n",
      "CNNs                  True              False             False\n",
      ")                     False             True              False\n",
      "to                    True              False             True\n",
      "perform               True              False             False\n",
      "NLP                   True              False             False\n",
      "related               True              False             False\n",
      "taks                  True              False             False\n",
      "in                    True              False             True\n",
      "several               True              False             True\n",
      "languages             True              False             False\n",
      "(                     False             True              False\n",
      "will                  True              False             True\n",
      "\n",
      "                     False             False             False\n",
      "provide               True              False             False\n",
      "images                True              False             False\n",
      "with                  True              False             True\n",
      "examples              True              False             False\n",
      ")                     False             True              False\n",
      ".                     False             True              False\n"
     ]
    }
   ],
   "source": [
    "print(\n",
    "    f\"{'Text with whitespace':22}\"\n",
    "    f\"{'Is Alphanumeric?':18}\"\n",
    "    f\"{'Is Punctuation?':18}\"\n",
    "    f\"{'Is Stop Word?'}\"\n",
    ")\n",
    "for token in about_doc:\n",
    "    print(\n",
    "         f\"{str(token.text_with_ws):22}\"\n",
    "         f\"{str(token.is_alpha):18}\"\n",
    "         f\"{str(token.is_punct):18}\"\n",
    "         f\"{str(token.is_stop)}\"\n",
    "    )"
   ]
  },
  {
   "cell_type": "markdown",
   "id": "e3b5ba00-f7fa-44ec-aae1-f51d552c1253",
   "metadata": {},
   "source": [
    "---\n",
    "## Stop Words\n",
    "\n",
    "Stop words are typically defined as the most common words in a language. In the English language, some examples of stop words are the, are, but, and they. Most sentences need to contain stop words in order to be full sentences that make grammatical sense."
   ]
  },
  {
   "cell_type": "code",
   "execution_count": 15,
   "id": "1480f80a-5035-4e44-92c3-1bb7605af8b7",
   "metadata": {},
   "outputs": [
    {
     "data": {
      "text/plain": [
       "326"
      ]
     },
     "execution_count": 15,
     "metadata": {},
     "output_type": "execute_result"
    }
   ],
   "source": [
    "spacy_stopwords = spacy.lang.en.stop_words.STOP_WORDS\n",
    "len(spacy_stopwords)"
   ]
  },
  {
   "cell_type": "code",
   "execution_count": 16,
   "id": "883b452d-a6dd-4ba4-9476-d70380a1b6cc",
   "metadata": {},
   "outputs": [
    {
     "name": "stdout",
     "output_type": "stream",
     "text": [
      "yours\n",
      "seeming\n",
      "neither\n",
      "us\n",
      "can\n",
      "whereby\n",
      "‘s\n",
      "cannot\n",
      "myself\n",
      "keep\n"
     ]
    }
   ],
   "source": [
    "for stop_word in list(spacy_stopwords)[:10]:\n",
    "    print(stop_word)"
   ]
  },
  {
   "cell_type": "code",
   "execution_count": 36,
   "id": "0b129d87-850b-4ec5-b28b-33b35fd2321d",
   "metadata": {},
   "outputs": [
    {
     "data": {
      "text/plain": [
       "spaCy is an open-source library for NLP, mostly used in Python and Cython\n",
       "    which provides pre-trained Neural Networks, specifically, Convolutional Neural\n",
       "    Networks (CNNs) to perform NLP related taks in several languages (will\n",
       "    provide images with examples)."
      ]
     },
     "execution_count": 36,
     "metadata": {},
     "output_type": "execute_result"
    }
   ],
   "source": [
    "about_doc"
   ]
  },
  {
   "cell_type": "code",
   "execution_count": 35,
   "id": "6d80ce71-c8f0-4486-807c-e716bebf5de5",
   "metadata": {},
   "outputs": [
    {
     "data": {
      "text/plain": [
       "51"
      ]
     },
     "execution_count": 35,
     "metadata": {},
     "output_type": "execute_result"
    }
   ],
   "source": [
    "len(about_doc)"
   ]
  },
  {
   "cell_type": "code",
   "execution_count": 33,
   "id": "bbadac1f-60b1-4e75-99d9-9058f45c6835",
   "metadata": {},
   "outputs": [
    {
     "name": "stdout",
     "output_type": "stream",
     "text": [
      "[spaCy, open, -, source, library, NLP, ,, Python, Cython, \n",
      "    , provides, pre, -, trained, Neural, Networks, ,, specifically, ,, Convolutional, Neural, \n",
      "    , Networks, (, CNNs, ), perform, NLP, related, taks, languages, (, \n",
      "    , provide, images, examples, ), .]\n"
     ]
    }
   ],
   "source": [
    "print([token for token in about_doc if not token.is_stop])"
   ]
  },
  {
   "cell_type": "code",
   "execution_count": 34,
   "id": "7ba86d40-bc93-46ef-b426-e16310050a51",
   "metadata": {
    "tags": []
   },
   "outputs": [
    {
     "data": {
      "text/plain": [
       "38"
      ]
     },
     "execution_count": 34,
     "metadata": {},
     "output_type": "execute_result"
    }
   ],
   "source": [
    "len([token for token in about_doc if not token.is_stop])"
   ]
  },
  {
   "cell_type": "markdown",
   "id": "a91cc822-3163-4cc1-a20f-0aecdc114896",
   "metadata": {},
   "source": [
    "---\n",
    "## Lematization\n",
    "\n",
    "Lemmatization is the process of reducing inflected forms of a word while still ensuring that the reduced form belongs to the language. This reduced form, or root word, is called a **lemma**."
   ]
  },
  {
   "cell_type": "code",
   "execution_count": 40,
   "id": "a424db38-00fd-411b-b120-d34de8ce28d9",
   "metadata": {},
   "outputs": [
    {
     "name": "stdout",
     "output_type": "stream",
     "text": [
      "               spaCy : spacy\n",
      "                  is : be\n",
      "                used : use\n",
      "            provides : provide\n",
      "             trained : train\n",
      "             related : relate\n",
      "                taks : tak\n",
      "           languages : language\n",
      "              images : image\n",
      "            examples : example\n"
     ]
    }
   ],
   "source": [
    "for token in about_doc:\n",
    "    if str(token) != str(token.lemma_):\n",
    "        print(f\"{str(token):>20} : {str(token.lemma_)}\")"
   ]
  }
 ],
 "metadata": {
  "kernelspec": {
   "display_name": "Python 3 (ipykernel)",
   "language": "python",
   "name": "python3"
  },
  "language_info": {
   "codemirror_mode": {
    "name": "ipython",
    "version": 3
   },
   "file_extension": ".py",
   "mimetype": "text/x-python",
   "name": "python",
   "nbconvert_exporter": "python",
   "pygments_lexer": "ipython3",
   "version": "3.10.9"
  }
 },
 "nbformat": 4,
 "nbformat_minor": 5
}
