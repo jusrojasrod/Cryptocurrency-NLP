{
 "cells": [
  {
   "cell_type": "markdown",
   "id": "a1ac25f3-5dba-4c9d-bfc1-51899309656a",
   "metadata": {},
   "source": [
    "https://www.section.io/engineering-education/sentiment-analysis-with-spacy-and-scikit-learn/\n",
    "\n",
    "https://realpython.com/natural-language-processing-spacy-python/"
   ]
  },
  {
   "cell_type": "code",
   "execution_count": 4,
   "id": "42511ae3-7801-42bf-8d7c-1d9d8d0b432e",
   "metadata": {},
   "outputs": [],
   "source": [
    "# # Run once\n",
    "# !pip install -U spacy\n",
    "# Run in terminal: python -m spacy download en_core_web_sm"
   ]
  },
  {
   "cell_type": "code",
   "execution_count": 2,
   "id": "171d5eb4-0621-48ed-916b-2b3389d1e1aa",
   "metadata": {},
   "outputs": [],
   "source": [
    "%load_ext autoreload\n",
    "\n",
    "%autoreload 2\n",
    "\n",
    "# Standart modules\n",
    "import os\n",
    "import pandas as pd\n",
    "\n",
    "# NPL - Sentiment Analysis\n",
    "import spacy\n",
    "from spacy.lang.en.stop_words import STOP_WORDS\n"
   ]
  },
  {
   "cell_type": "code",
   "execution_count": 3,
   "id": "144ff6bf-f01f-455c-9554-b24399ce66b9",
   "metadata": {},
   "outputs": [],
   "source": [
    "columns = [\"Message\", \"Target\"]\n",
    "df_yelp = pd.read_table('data/yelp_labelled.txt', header=None, names=columns)\n",
    "df_imdb = pd.read_table('data/imdb_labelled.txt', header=None, names=columns)\n",
    "df_amz = pd.read_table('data/amazon_cells_labelled.txt', header=None, names=columns)"
   ]
  },
  {
   "cell_type": "code",
   "execution_count": 4,
   "id": "e59c54b0-1ded-4132-9727-d147f8f738e4",
   "metadata": {},
   "outputs": [],
   "source": [
    "df = pd.concat([df_yelp, df_imdb, df_amz], keys = ['Yelp','IMDB','Amazon'])"
   ]
  },
  {
   "cell_type": "code",
   "execution_count": 5,
   "id": "92078113-723e-4ad2-9d6c-79b3df2e7fb9",
   "metadata": {},
   "outputs": [
    {
     "data": {
      "text/html": [
       "<div>\n",
       "<style scoped>\n",
       "    .dataframe tbody tr th:only-of-type {\n",
       "        vertical-align: middle;\n",
       "    }\n",
       "\n",
       "    .dataframe tbody tr th {\n",
       "        vertical-align: top;\n",
       "    }\n",
       "\n",
       "    .dataframe thead th {\n",
       "        text-align: right;\n",
       "    }\n",
       "</style>\n",
       "<table border=\"1\" class=\"dataframe\">\n",
       "  <thead>\n",
       "    <tr style=\"text-align: right;\">\n",
       "      <th></th>\n",
       "      <th></th>\n",
       "      <th>Message</th>\n",
       "      <th>Target</th>\n",
       "    </tr>\n",
       "  </thead>\n",
       "  <tbody>\n",
       "    <tr>\n",
       "      <th rowspan=\"5\" valign=\"top\">Yelp</th>\n",
       "      <th>0</th>\n",
       "      <td>Wow... Loved this place.</td>\n",
       "      <td>1</td>\n",
       "    </tr>\n",
       "    <tr>\n",
       "      <th>1</th>\n",
       "      <td>Crust is not good.</td>\n",
       "      <td>0</td>\n",
       "    </tr>\n",
       "    <tr>\n",
       "      <th>2</th>\n",
       "      <td>Not tasty and the texture was just nasty.</td>\n",
       "      <td>0</td>\n",
       "    </tr>\n",
       "    <tr>\n",
       "      <th>3</th>\n",
       "      <td>Stopped by during the late May bank holiday of...</td>\n",
       "      <td>1</td>\n",
       "    </tr>\n",
       "    <tr>\n",
       "      <th>4</th>\n",
       "      <td>The selection on the menu was great and so wer...</td>\n",
       "      <td>1</td>\n",
       "    </tr>\n",
       "    <tr>\n",
       "      <th>...</th>\n",
       "      <th>...</th>\n",
       "      <td>...</td>\n",
       "      <td>...</td>\n",
       "    </tr>\n",
       "    <tr>\n",
       "      <th rowspan=\"5\" valign=\"top\">Amazon</th>\n",
       "      <th>995</th>\n",
       "      <td>The screen does get smudged easily because it ...</td>\n",
       "      <td>0</td>\n",
       "    </tr>\n",
       "    <tr>\n",
       "      <th>996</th>\n",
       "      <td>What a piece of junk.. I lose more calls on th...</td>\n",
       "      <td>0</td>\n",
       "    </tr>\n",
       "    <tr>\n",
       "      <th>997</th>\n",
       "      <td>Item Does Not Match Picture.</td>\n",
       "      <td>0</td>\n",
       "    </tr>\n",
       "    <tr>\n",
       "      <th>998</th>\n",
       "      <td>The only thing that disappoint me is the infra...</td>\n",
       "      <td>0</td>\n",
       "    </tr>\n",
       "    <tr>\n",
       "      <th>999</th>\n",
       "      <td>You can not answer calls with the unit, never ...</td>\n",
       "      <td>0</td>\n",
       "    </tr>\n",
       "  </tbody>\n",
       "</table>\n",
       "<p>2748 rows × 2 columns</p>\n",
       "</div>"
      ],
      "text/plain": [
       "                                                      Message  Target\n",
       "Yelp   0                             Wow... Loved this place.       1\n",
       "       1                                   Crust is not good.       0\n",
       "       2            Not tasty and the texture was just nasty.       0\n",
       "       3    Stopped by during the late May bank holiday of...       1\n",
       "       4    The selection on the menu was great and so wer...       1\n",
       "...                                                       ...     ...\n",
       "Amazon 995  The screen does get smudged easily because it ...       0\n",
       "       996  What a piece of junk.. I lose more calls on th...       0\n",
       "       997                       Item Does Not Match Picture.       0\n",
       "       998  The only thing that disappoint me is the infra...       0\n",
       "       999  You can not answer calls with the unit, never ...       0\n",
       "\n",
       "[2748 rows x 2 columns]"
      ]
     },
     "execution_count": 5,
     "metadata": {},
     "output_type": "execute_result"
    }
   ],
   "source": [
    "df"
   ]
  },
  {
   "cell_type": "markdown",
   "id": "f412e6f3-229c-4b31-86f5-210e2cb410e8",
   "metadata": {},
   "source": [
    "# Removing Stop Words"
   ]
  },
  {
   "cell_type": "code",
   "execution_count": 33,
   "id": "ba715e54-6f6f-4851-94b1-2ba659095b19",
   "metadata": {},
   "outputs": [],
   "source": [
    "nlp = spacy.load(\"en_core_web_sm\")"
   ]
  },
  {
   "cell_type": "code",
   "execution_count": 19,
   "id": "53d8813a-49b6-4e7a-be0e-ab26bc28621d",
   "metadata": {},
   "outputs": [],
   "source": [
    "stopwords = list(STOP_WORDS)"
   ]
  },
  {
   "cell_type": "code",
   "execution_count": 30,
   "id": "02938a98-19a2-40d2-a765-5c567c6b65c2",
   "metadata": {},
   "outputs": [
    {
     "data": {
      "text/plain": [
       "326"
      ]
     },
     "execution_count": 30,
     "metadata": {},
     "output_type": "execute_result"
    }
   ],
   "source": [
    "len(STOP_WORDS)"
   ]
  },
  {
   "cell_type": "code",
   "execution_count": 32,
   "id": "0b24ca85-d072-4c13-adfc-5301563eef89",
   "metadata": {},
   "outputs": [
    {
     "name": "stdout",
     "output_type": "stream",
     "text": [
      "by\n",
      "‘s\n",
      "an\n",
      "her\n",
      "be\n",
      "or\n",
      "'d\n",
      "serious\n",
      "whereupon\n",
      "therein\n"
     ]
    }
   ],
   "source": [
    "for stop_word in list(stopwords)[:10]:\n",
    "    print(stop_word)"
   ]
  },
  {
   "cell_type": "code",
   "execution_count": 20,
   "id": "a1743376-20d8-423e-a03c-64c137200aa0",
   "metadata": {},
   "outputs": [
    {
     "ename": "AttributeError",
     "evalue": "'str' object has no attribute 'is_stop'",
     "output_type": "error",
     "traceback": [
      "\u001b[1;31m---------------------------------------------------------------------------\u001b[0m",
      "\u001b[1;31mAttributeError\u001b[0m                            Traceback (most recent call last)",
      "Cell \u001b[1;32mIn[20], line 3\u001b[0m\n\u001b[0;32m      1\u001b[0m \u001b[38;5;66;03m# remove stop words\u001b[39;00m\n\u001b[0;32m      2\u001b[0m \u001b[38;5;28;01mfor\u001b[39;00m word \u001b[38;5;129;01min\u001b[39;00m stopwords:\n\u001b[1;32m----> 3\u001b[0m     \u001b[38;5;28;01mif\u001b[39;00m \u001b[43mword\u001b[49m\u001b[38;5;241;43m.\u001b[39;49m\u001b[43mis_stop\u001b[49m \u001b[38;5;241m==\u001b[39m \u001b[38;5;28;01mFalse\u001b[39;00m:\n\u001b[0;32m      4\u001b[0m         \u001b[38;5;28mprint\u001b[39m(\u001b[38;5;124m'\u001b[39m\u001b[38;5;124mIN\u001b[39m\u001b[38;5;124m'\u001b[39m)\n",
      "\u001b[1;31mAttributeError\u001b[0m: 'str' object has no attribute 'is_stop'"
     ]
    }
   ],
   "source": [
    "# remove stop words\n",
    "for word in stopwords:\n",
    "    if word.is_stop == False:\n",
    "        print('IN')\n",
    "    # if word.is_stop == False and not word.is_punct:"
   ]
  },
  {
   "cell_type": "code",
   "execution_count": 26,
   "id": "9ecbab83-0e63-4b86-80e6-660e78bd2bbd",
   "metadata": {},
   "outputs": [],
   "source": [
    "stopwords_ = npl.Defaults.stop_words"
   ]
  },
  {
   "cell_type": "code",
   "execution_count": 29,
   "id": "1a27a7f9-5b9b-4d74-8705-46c5de3ddd9a",
   "metadata": {},
   "outputs": [
    {
     "ename": "AttributeError",
     "evalue": "'str' object has no attribute 'is_stop'",
     "output_type": "error",
     "traceback": [
      "\u001b[1;31m---------------------------------------------------------------------------\u001b[0m",
      "\u001b[1;31mAttributeError\u001b[0m                            Traceback (most recent call last)",
      "Cell \u001b[1;32mIn[29], line 2\u001b[0m\n\u001b[0;32m      1\u001b[0m \u001b[38;5;28;01mfor\u001b[39;00m word \u001b[38;5;129;01min\u001b[39;00m stopwords_:\n\u001b[1;32m----> 2\u001b[0m     \u001b[38;5;28mprint\u001b[39m(\u001b[43mword\u001b[49m\u001b[38;5;241;43m.\u001b[39;49m\u001b[43mis_stop\u001b[49m)\n",
      "\u001b[1;31mAttributeError\u001b[0m: 'str' object has no attribute 'is_stop'"
     ]
    }
   ],
   "source": [
    "for word in stopwords_:\n",
    "    print(word.is_stop)"
   ]
  },
  {
   "cell_type": "code",
   "execution_count": 34,
   "id": "8849ec8a-47f4-4ec1-8528-e7305ded4578",
   "metadata": {},
   "outputs": [
    {
     "name": "stdout",
     "output_type": "stream",
     "text": [
      "[Gus, Proto, Python, developer, currently, working, London, -, based, Fintech, company, ., interested, learning, Natural, Language, Processing, .]\n"
     ]
    }
   ],
   "source": [
    "custom_about_text = (\n",
    "     \"Gus Proto is a Python developer currently\"\n",
    "     \" working for a London-based Fintech\"\n",
    "     \" company. He is interested in learning\"\n",
    "     \" Natural Language Processing.\"\n",
    ")\n",
    "nlp = spacy.load(\"en_core_web_sm\")\n",
    "about_doc = nlp(custom_about_text)\n",
    "print([token for token in about_doc if not token.is_stop])"
   ]
  },
  {
   "cell_type": "code",
   "execution_count": 41,
   "id": "83edba10-5c76-409a-96d8-38a67ea891c2",
   "metadata": {},
   "outputs": [
    {
     "data": {
      "text/plain": [
       "spacy.tokens.doc.Doc"
      ]
     },
     "execution_count": 41,
     "metadata": {},
     "output_type": "execute_result"
    }
   ],
   "source": [
    "type(about_doc)"
   ]
  },
  {
   "cell_type": "code",
   "execution_count": null,
   "id": "03a5b8cf-97c8-4739-bd32-511a5b447491",
   "metadata": {},
   "outputs": [],
   "source": []
  }
 ],
 "metadata": {
  "kernelspec": {
   "display_name": "Python 3 (ipykernel)",
   "language": "python",
   "name": "python3"
  },
  "language_info": {
   "codemirror_mode": {
    "name": "ipython",
    "version": 3
   },
   "file_extension": ".py",
   "mimetype": "text/x-python",
   "name": "python",
   "nbconvert_exporter": "python",
   "pygments_lexer": "ipython3",
   "version": "3.10.9"
  }
 },
 "nbformat": 4,
 "nbformat_minor": 5
}
